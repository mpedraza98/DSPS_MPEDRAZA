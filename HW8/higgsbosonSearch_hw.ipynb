{
 "cells": [
  {
   "cell_type": "markdown",
   "metadata": {
    "colab_type": "text",
    "id": "view-in-github"
   },
   "source": [
    "<a href=\"https://colab.research.google.com/github/mpedraza98/DSPS_MPedraza/blob/main/HW8/higgsbosonSearch_hw.ipynb\" target=\"_parent\"><img src=\"https://colab.research.google.com/assets/colab-badge.svg\" alt=\"Open In Colab\"/></a>"
   ]
  },
  {
   "cell_type": "code",
   "execution_count": null,
   "metadata": {
    "colab": {
     "base_uri": "https://localhost:8080/"
    },
    "id": "-xpw06PzTsU6",
    "outputId": "7fa92c2e-1b6b-43e0-e2e2-7c36390bdae8"
   },
   "outputs": [
    {
     "name": "stdout",
     "output_type": "stream",
     "text": [
      "Mounted at /content/drive\n"
     ]
    }
   ],
   "source": [
    "from google.colab import drive\n",
    "drive.mount('/content/drive')"
   ]
  },
  {
   "cell_type": "code",
   "execution_count": null,
   "metadata": {
    "colab": {
     "base_uri": "https://localhost:8080/"
    },
    "id": "QncFXxr7xogC",
    "outputId": "ceed0ff1-4da5-4ca4-ded8-14abd3e783d0"
   },
   "outputs": [
    {
     "name": "stdout",
     "output_type": "stream",
     "text": [
      "Populating the interactive namespace from numpy and matplotlib\n"
     ]
    }
   ],
   "source": [
    "import numpy as np\n",
    "import pandas as pd\n",
    "import json\n",
    "import os\n",
    "import pylab as pl\n",
    "%pylab inline\n",
    "from sklearn import tree\n",
    "from sklearn.model_selection import train_test_split\n",
    "from google.colab import drive\n",
    "import json \n",
    "from sklearn.ensemble import RandomForestClassifier\n",
    "from sklearn.ensemble import GradientBoostingClassifier\n",
    "from sklearn.datasets import make_classification\n",
    "from sklearn.ensemble import RandomForestRegressor\n",
    "from sklearn.ensemble import GradientBoostingRegressor\n",
    "from sklearn.model_selection import RandomizedSearchCV"
   ]
  },
  {
   "cell_type": "markdown",
   "metadata": {
    "id": "nS4S7msAPK_R"
   },
   "source": [
    "- Download the Higgs boson data from Kaggle (programmatically within the notebook)\n",
    "see how I did it in the Titanic Trees notebook https://github.com/fedhere/DSPS/blob/master/lab9/titanictree.ipynb\n",
    "\n",
    "find the correct API link here https://www.kaggle.com/c/higgs-boson/data\n"
   ]
  },
  {
   "cell_type": "markdown",
   "metadata": {
    "id": "KMuvMJgOnlYo"
   },
   "source": [
    "\n",
    "- Read in the trainind data. Split the provided training data into a training and a test set. \n",
    "The last 2 columns are what you want to predict: \"weight\" and \"label\".\n",
    "Remove them from the input data and create a separate variable label and a separate variable weight, which will be your target variables for, respectively, classification and regression.\n",
    "\n"
   ]
  },
  {
   "cell_type": "code",
   "execution_count": null,
   "metadata": {
    "colab": {
     "base_uri": "https://localhost:8080/"
    },
    "id": "G2JIZDM_ryDp",
    "outputId": "a17eb3dd-bc38-4558-bbe9-6513b3e0cbb0"
   },
   "outputs": [
    {
     "name": "stdout",
     "output_type": "stream",
     "text": [
      "Requirement already satisfied: kaggle in /usr/local/lib/python3.7/dist-packages (1.5.12)\n",
      "Requirement already satisfied: requests in /usr/local/lib/python3.7/dist-packages (from kaggle) (2.23.0)\n",
      "Requirement already satisfied: six>=1.10 in /usr/local/lib/python3.7/dist-packages (from kaggle) (1.15.0)\n",
      "Requirement already satisfied: python-slugify in /usr/local/lib/python3.7/dist-packages (from kaggle) (5.0.2)\n",
      "Requirement already satisfied: python-dateutil in /usr/local/lib/python3.7/dist-packages (from kaggle) (2.8.2)\n",
      "Requirement already satisfied: certifi in /usr/local/lib/python3.7/dist-packages (from kaggle) (2021.10.8)\n",
      "Requirement already satisfied: urllib3 in /usr/local/lib/python3.7/dist-packages (from kaggle) (1.24.3)\n",
      "Requirement already satisfied: tqdm in /usr/local/lib/python3.7/dist-packages (from kaggle) (4.62.3)\n",
      "Requirement already satisfied: text-unidecode>=1.3 in /usr/local/lib/python3.7/dist-packages (from python-slugify->kaggle) (1.3)\n",
      "Requirement already satisfied: idna<3,>=2.5 in /usr/local/lib/python3.7/dist-packages (from requests->kaggle) (2.10)\n",
      "Requirement already satisfied: chardet<4,>=3.0.2 in /usr/local/lib/python3.7/dist-packages (from requests->kaggle) (3.0.4)\n"
     ]
    }
   ],
   "source": [
    "pip install kaggle"
   ]
  },
  {
   "cell_type": "code",
   "execution_count": null,
   "metadata": {
    "colab": {
     "base_uri": "https://localhost:8080/"
    },
    "id": "eKhoNFkushzZ",
    "outputId": "e7a77dda-8ae5-43d1-833c-47607bef9f9e"
   },
   "outputs": [
    {
     "name": "stdout",
     "output_type": "stream",
     "text": [
      "/content/drive/MyDrive\n"
     ]
    }
   ],
   "source": [
    "cd drive/MyDrive/"
   ]
  },
  {
   "cell_type": "code",
   "execution_count": null,
   "metadata": {
    "id": "XUYeQRZ4su6f"
   },
   "outputs": [],
   "source": [
    "envs = json.load(open(\".kaggle/kaggle.json\", \"r\"))\n",
    "os.environ[\"KAGGLE_USERNAME\"] = envs['username']\n",
    "os.environ[\"KAGGLE_KEY\"] = envs['key']"
   ]
  },
  {
   "cell_type": "code",
   "execution_count": null,
   "metadata": {
    "id": "2zHUBKVOvXFj"
   },
   "outputs": [],
   "source": [
    "#mkdir dsps"
   ]
  },
  {
   "cell_type": "code",
   "execution_count": null,
   "metadata": {
    "colab": {
     "base_uri": "https://localhost:8080/"
    },
    "id": "tdT5ERKEvaJh",
    "outputId": "c83d75d3-ac2b-474e-b5e2-56c31d496c46"
   },
   "outputs": [
    {
     "name": "stdout",
     "output_type": "stream",
     "text": [
      "/content/drive/MyDrive/dsps\n"
     ]
    }
   ],
   "source": [
    "cd dsps/"
   ]
  },
  {
   "cell_type": "code",
   "execution_count": null,
   "metadata": {
    "id": "LdNqFWcQvdQQ"
   },
   "outputs": [],
   "source": [
    "#mkdir higgsboson"
   ]
  },
  {
   "cell_type": "code",
   "execution_count": null,
   "metadata": {
    "colab": {
     "base_uri": "https://localhost:8080/"
    },
    "id": "ViWkH-0Xvrsm",
    "outputId": "d347884e-7fbd-4e56-f6a8-0279510c6130"
   },
   "outputs": [
    {
     "name": "stdout",
     "output_type": "stream",
     "text": [
      "/content/drive/MyDrive/dsps/higgsboson\n"
     ]
    }
   ],
   "source": [
    "cd higgsboson/"
   ]
  },
  {
   "cell_type": "code",
   "execution_count": null,
   "metadata": {
    "colab": {
     "base_uri": "https://localhost:8080/"
    },
    "id": "5nS46Q2RlFBI",
    "outputId": "b2c6a1f4-662a-4d57-9780-87f85643a27b"
   },
   "outputs": [
    {
     "name": "stdout",
     "output_type": "stream",
     "text": [
      "Warning: Looks like you're using an outdated API Version, please consider updating (server 1.5.12 / client 1.5.4)\n",
      "ref                                                         title                                              size  lastUpdated          downloadCount  \n",
      "----------------------------------------------------------  ------------------------------------------------  -----  -------------------  -------------  \n",
      "gpreda/reddit-vaccine-myths                                 Reddit Vaccine Myths                              237KB  2021-11-21 16:54:23          16058  \n",
      "crowww/a-large-scale-fish-dataset                           A Large Scale Fish Dataset                          3GB  2021-04-28 17:03:01           9693  \n",
      "imsparsh/musicnet-dataset                                   MusicNet Dataset                                   22GB  2021-02-18 14:12:19           4438  \n",
      "dhruvildave/wikibooks-dataset                               Wikibooks Dataset                                   2GB  2021-10-22 10:48:21           3543  \n",
      "promptcloud/careerbuilder-job-listing-2020                  Careerbuilder Job Listing 2020                     42MB  2021-03-05 06:59:52           2726  \n",
      "fatiimaezzahra/famous-iconic-women                          Famous Iconic Women                               838MB  2021-02-28 14:56:00           1901  \n",
      "nickuzmenkov/nih-chest-xrays-tfrecords                      NIH Chest X-rays TFRecords                         11GB  2021-03-09 04:49:23           1622  \n",
      "mathurinache/twitter-edge-nodes                             Twitter Edge Nodes                                342MB  2021-03-08 06:43:04           1312  \n",
      "alsgroup/end-als                                            End ALS Kaggle Challenge                           12GB  2021-04-08 12:16:37           1103  \n",
      "simiotic/github-code-snippets                               GitHub Code Snippets                                7GB  2021-03-03 11:34:39            502  \n",
      "mathurinache/the-lj-speech-dataset                          The LJ Speech Dataset                               3GB  2021-02-15 09:19:54            484  \n",
      "coloradokb/dandelionimages                                  DandelionImages                                     4GB  2021-02-19 20:03:47           1022  \n",
      "imsparsh/accentdb-core-extended                             AccentDB - Core & Extended                          6GB  2021-02-17 14:22:54            178  \n",
      "stuartjames/lights                                          LightS: Light Specularity Dataset                  18GB  2021-02-18 14:32:26            205  \n",
      "landrykezebou/lvzhdr-tone-mapping-benchmark-dataset-tmonet  LVZ-HDR Tone Mapping Benchmark Dataset (TMO-Net)   24GB  2021-03-01 05:03:40            232  \n",
      "nickuzmenkov/ranzcr-clip-kfold-tfrecords                    RANZCR CLiP KFold TFRecords                         2GB  2021-02-21 13:29:51            161  \n",
      "datasnaek/youtube-new                                       Trending YouTube Video Statistics                 201MB  2019-06-03 00:56:47         158527  \n",
      "zynicide/wine-reviews                                       Wine Reviews                                       51MB  2017-11-27 17:08:04         148885  \n",
      "datasnaek/chess                                             Chess Game Dataset (Lichess)                        3MB  2017-09-04 03:09:09          25246  \n",
      "residentmario/ramen-ratings                                 Ramen Ratings                                      40KB  2018-01-11 16:04:39          30015  \n"
     ]
    }
   ],
   "source": [
    "!kaggle datasets list"
   ]
  },
  {
   "cell_type": "code",
   "execution_count": null,
   "metadata": {
    "colab": {
     "base_uri": "https://localhost:8080/"
    },
    "id": "8PntMmSDmwyB",
    "outputId": "9265d536-961d-4478-900f-a59e5365a49c"
   },
   "outputs": [
    {
     "name": "stdout",
     "output_type": "stream",
     "text": [
      "Warning: Looks like you're using an outdated API Version, please consider updating (server 1.5.12 / client 1.5.4)\n",
      "HiggsBosonCompetition_AMSMetric_rev1.py: Skipping, found more recently modified local copy (use --force to force download)\n",
      "random_submission.zip: Skipping, found more recently modified local copy (use --force to force download)\n",
      "training.zip: Skipping, found more recently modified local copy (use --force to force download)\n",
      "test.zip: Skipping, found more recently modified local copy (use --force to force download)\n"
     ]
    }
   ],
   "source": [
    "!kaggle competitions download -c higgs-boson"
   ]
  },
  {
   "cell_type": "code",
   "execution_count": null,
   "metadata": {
    "colab": {
     "base_uri": "https://localhost:8080/"
    },
    "id": "srej7VS7wDti",
    "outputId": "ec89cf24-79f2-4b52-9d67-0b3566acbfda"
   },
   "outputs": [
    {
     "name": "stdout",
     "output_type": "stream",
     "text": [
      "HiggsBosonCompetition_AMSMetric_rev1.py  test.csv  training.csv\n",
      "random_submission.zip                    test.zip  training.zip\n"
     ]
    }
   ],
   "source": [
    "ls"
   ]
  },
  {
   "cell_type": "code",
   "execution_count": null,
   "metadata": {
    "id": "fYmr8RhWn327"
   },
   "outputs": [],
   "source": [
    "higgsdata = pd.read_csv('training.csv')"
   ]
  },
  {
   "cell_type": "code",
   "execution_count": null,
   "metadata": {
    "id": "Vb9xX0g3tQQZ"
   },
   "outputs": [],
   "source": [
    "#Remove missing values\n",
    "higgsdata = higgsdata[(higgsdata != -999.0)]\n",
    "higgsdata.dropna(axis=0,inplace=True)"
   ]
  },
  {
   "cell_type": "code",
   "execution_count": null,
   "metadata": {
    "colab": {
     "base_uri": "https://localhost:8080/",
     "height": 226
    },
    "id": "muWGBHN90IPN",
    "outputId": "f538b066-733f-47e8-c4aa-a01101978471"
   },
   "outputs": [
    {
     "data": {
      "text/html": [
       "<div>\n",
       "<style scoped>\n",
       "    .dataframe tbody tr th:only-of-type {\n",
       "        vertical-align: middle;\n",
       "    }\n",
       "\n",
       "    .dataframe tbody tr th {\n",
       "        vertical-align: top;\n",
       "    }\n",
       "\n",
       "    .dataframe thead th {\n",
       "        text-align: right;\n",
       "    }\n",
       "</style>\n",
       "<table border=\"1\" class=\"dataframe\">\n",
       "  <thead>\n",
       "    <tr style=\"text-align: right;\">\n",
       "      <th></th>\n",
       "      <th>EventId</th>\n",
       "      <th>DER_mass_MMC</th>\n",
       "      <th>DER_mass_transverse_met_lep</th>\n",
       "      <th>DER_mass_vis</th>\n",
       "      <th>DER_pt_h</th>\n",
       "      <th>DER_deltaeta_jet_jet</th>\n",
       "      <th>DER_mass_jet_jet</th>\n",
       "      <th>DER_prodeta_jet_jet</th>\n",
       "      <th>DER_deltar_tau_lep</th>\n",
       "      <th>DER_pt_tot</th>\n",
       "      <th>DER_sum_pt</th>\n",
       "      <th>DER_pt_ratio_lep_tau</th>\n",
       "      <th>DER_met_phi_centrality</th>\n",
       "      <th>DER_lep_eta_centrality</th>\n",
       "      <th>PRI_tau_pt</th>\n",
       "      <th>PRI_tau_eta</th>\n",
       "      <th>PRI_tau_phi</th>\n",
       "      <th>PRI_lep_pt</th>\n",
       "      <th>PRI_lep_eta</th>\n",
       "      <th>PRI_lep_phi</th>\n",
       "      <th>PRI_met</th>\n",
       "      <th>PRI_met_phi</th>\n",
       "      <th>PRI_met_sumet</th>\n",
       "      <th>PRI_jet_num</th>\n",
       "      <th>PRI_jet_leading_pt</th>\n",
       "      <th>PRI_jet_leading_eta</th>\n",
       "      <th>PRI_jet_leading_phi</th>\n",
       "      <th>PRI_jet_subleading_pt</th>\n",
       "      <th>PRI_jet_subleading_eta</th>\n",
       "      <th>PRI_jet_subleading_phi</th>\n",
       "      <th>PRI_jet_all_pt</th>\n",
       "      <th>Weight</th>\n",
       "      <th>Label</th>\n",
       "    </tr>\n",
       "  </thead>\n",
       "  <tbody>\n",
       "    <tr>\n",
       "      <th>0</th>\n",
       "      <td>100000</td>\n",
       "      <td>138.470</td>\n",
       "      <td>51.655</td>\n",
       "      <td>97.827</td>\n",
       "      <td>27.980</td>\n",
       "      <td>0.910</td>\n",
       "      <td>124.711</td>\n",
       "      <td>2.666</td>\n",
       "      <td>3.064</td>\n",
       "      <td>41.928</td>\n",
       "      <td>197.760</td>\n",
       "      <td>1.582</td>\n",
       "      <td>1.396</td>\n",
       "      <td>0.200</td>\n",
       "      <td>32.638</td>\n",
       "      <td>1.017</td>\n",
       "      <td>0.381</td>\n",
       "      <td>51.626</td>\n",
       "      <td>2.273</td>\n",
       "      <td>-2.414</td>\n",
       "      <td>16.824</td>\n",
       "      <td>-0.277</td>\n",
       "      <td>258.733</td>\n",
       "      <td>2</td>\n",
       "      <td>67.435</td>\n",
       "      <td>2.150</td>\n",
       "      <td>0.444</td>\n",
       "      <td>46.062</td>\n",
       "      <td>1.240</td>\n",
       "      <td>-2.475</td>\n",
       "      <td>113.497</td>\n",
       "      <td>0.002653</td>\n",
       "      <td>s</td>\n",
       "    </tr>\n",
       "    <tr>\n",
       "      <th>5</th>\n",
       "      <td>100005</td>\n",
       "      <td>89.744</td>\n",
       "      <td>13.550</td>\n",
       "      <td>59.149</td>\n",
       "      <td>116.344</td>\n",
       "      <td>2.636</td>\n",
       "      <td>284.584</td>\n",
       "      <td>-0.540</td>\n",
       "      <td>1.362</td>\n",
       "      <td>61.619</td>\n",
       "      <td>278.876</td>\n",
       "      <td>0.588</td>\n",
       "      <td>0.479</td>\n",
       "      <td>0.975</td>\n",
       "      <td>53.651</td>\n",
       "      <td>0.371</td>\n",
       "      <td>1.329</td>\n",
       "      <td>31.565</td>\n",
       "      <td>-0.884</td>\n",
       "      <td>1.857</td>\n",
       "      <td>40.735</td>\n",
       "      <td>2.237</td>\n",
       "      <td>282.849</td>\n",
       "      <td>3</td>\n",
       "      <td>90.547</td>\n",
       "      <td>-2.412</td>\n",
       "      <td>-0.653</td>\n",
       "      <td>56.165</td>\n",
       "      <td>0.224</td>\n",
       "      <td>3.106</td>\n",
       "      <td>193.660</td>\n",
       "      <td>0.083414</td>\n",
       "      <td>b</td>\n",
       "    </tr>\n",
       "    <tr>\n",
       "      <th>6</th>\n",
       "      <td>100006</td>\n",
       "      <td>148.754</td>\n",
       "      <td>28.862</td>\n",
       "      <td>107.782</td>\n",
       "      <td>106.130</td>\n",
       "      <td>0.733</td>\n",
       "      <td>158.359</td>\n",
       "      <td>0.113</td>\n",
       "      <td>2.941</td>\n",
       "      <td>2.545</td>\n",
       "      <td>305.967</td>\n",
       "      <td>3.371</td>\n",
       "      <td>1.393</td>\n",
       "      <td>0.791</td>\n",
       "      <td>28.850</td>\n",
       "      <td>1.113</td>\n",
       "      <td>2.409</td>\n",
       "      <td>97.240</td>\n",
       "      <td>0.675</td>\n",
       "      <td>-0.966</td>\n",
       "      <td>38.421</td>\n",
       "      <td>-1.443</td>\n",
       "      <td>294.074</td>\n",
       "      <td>2</td>\n",
       "      <td>123.010</td>\n",
       "      <td>0.864</td>\n",
       "      <td>1.450</td>\n",
       "      <td>56.867</td>\n",
       "      <td>0.131</td>\n",
       "      <td>-2.767</td>\n",
       "      <td>179.877</td>\n",
       "      <td>0.002653</td>\n",
       "      <td>s</td>\n",
       "    </tr>\n",
       "    <tr>\n",
       "      <th>11</th>\n",
       "      <td>100011</td>\n",
       "      <td>114.744</td>\n",
       "      <td>10.286</td>\n",
       "      <td>75.712</td>\n",
       "      <td>30.816</td>\n",
       "      <td>2.563</td>\n",
       "      <td>252.599</td>\n",
       "      <td>-1.401</td>\n",
       "      <td>2.888</td>\n",
       "      <td>36.745</td>\n",
       "      <td>239.804</td>\n",
       "      <td>1.061</td>\n",
       "      <td>1.364</td>\n",
       "      <td>0.769</td>\n",
       "      <td>35.976</td>\n",
       "      <td>-0.669</td>\n",
       "      <td>-0.342</td>\n",
       "      <td>38.188</td>\n",
       "      <td>-0.165</td>\n",
       "      <td>2.502</td>\n",
       "      <td>22.385</td>\n",
       "      <td>2.148</td>\n",
       "      <td>290.547</td>\n",
       "      <td>3</td>\n",
       "      <td>76.773</td>\n",
       "      <td>-0.790</td>\n",
       "      <td>0.303</td>\n",
       "      <td>56.876</td>\n",
       "      <td>1.773</td>\n",
       "      <td>-2.079</td>\n",
       "      <td>165.640</td>\n",
       "      <td>0.307170</td>\n",
       "      <td>b</td>\n",
       "    </tr>\n",
       "    <tr>\n",
       "      <th>23</th>\n",
       "      <td>100023</td>\n",
       "      <td>141.481</td>\n",
       "      <td>0.736</td>\n",
       "      <td>111.581</td>\n",
       "      <td>174.075</td>\n",
       "      <td>1.955</td>\n",
       "      <td>364.344</td>\n",
       "      <td>-0.923</td>\n",
       "      <td>1.335</td>\n",
       "      <td>6.663</td>\n",
       "      <td>440.859</td>\n",
       "      <td>0.652</td>\n",
       "      <td>1.042</td>\n",
       "      <td>0.207</td>\n",
       "      <td>98.565</td>\n",
       "      <td>0.190</td>\n",
       "      <td>-1.506</td>\n",
       "      <td>64.285</td>\n",
       "      <td>1.405</td>\n",
       "      <td>-0.952</td>\n",
       "      <td>17.960</td>\n",
       "      <td>-0.973</td>\n",
       "      <td>454.785</td>\n",
       "      <td>2</td>\n",
       "      <td>195.533</td>\n",
       "      <td>1.156</td>\n",
       "      <td>1.416</td>\n",
       "      <td>82.477</td>\n",
       "      <td>-0.798</td>\n",
       "      <td>-2.785</td>\n",
       "      <td>278.009</td>\n",
       "      <td>0.001503</td>\n",
       "      <td>s</td>\n",
       "    </tr>\n",
       "  </tbody>\n",
       "</table>\n",
       "</div>"
      ],
      "text/plain": [
       "    EventId  DER_mass_MMC  ...    Weight  Label\n",
       "0    100000       138.470  ...  0.002653      s\n",
       "5    100005        89.744  ...  0.083414      b\n",
       "6    100006       148.754  ...  0.002653      s\n",
       "11   100011       114.744  ...  0.307170      b\n",
       "23   100023       141.481  ...  0.001503      s\n",
       "\n",
       "[5 rows x 33 columns]"
      ]
     },
     "execution_count": 15,
     "metadata": {},
     "output_type": "execute_result"
    }
   ],
   "source": [
    "higgsdata.head()"
   ]
  },
  {
   "cell_type": "code",
   "execution_count": null,
   "metadata": {
    "colab": {
     "base_uri": "https://localhost:8080/",
     "height": 320
    },
    "id": "HCPS73k0ytqj",
    "outputId": "815431a3-76cf-44e3-bc48-e4c0897f42d8"
   },
   "outputs": [
    {
     "data": {
      "text/html": [
       "<div>\n",
       "<style scoped>\n",
       "    .dataframe tbody tr th:only-of-type {\n",
       "        vertical-align: middle;\n",
       "    }\n",
       "\n",
       "    .dataframe tbody tr th {\n",
       "        vertical-align: top;\n",
       "    }\n",
       "\n",
       "    .dataframe thead th {\n",
       "        text-align: right;\n",
       "    }\n",
       "</style>\n",
       "<table border=\"1\" class=\"dataframe\">\n",
       "  <thead>\n",
       "    <tr style=\"text-align: right;\">\n",
       "      <th></th>\n",
       "      <th>EventId</th>\n",
       "      <th>DER_mass_MMC</th>\n",
       "      <th>DER_mass_transverse_met_lep</th>\n",
       "      <th>DER_mass_vis</th>\n",
       "      <th>DER_pt_h</th>\n",
       "      <th>DER_deltaeta_jet_jet</th>\n",
       "      <th>DER_mass_jet_jet</th>\n",
       "      <th>DER_prodeta_jet_jet</th>\n",
       "      <th>DER_deltar_tau_lep</th>\n",
       "      <th>DER_pt_tot</th>\n",
       "      <th>DER_sum_pt</th>\n",
       "      <th>DER_pt_ratio_lep_tau</th>\n",
       "      <th>DER_met_phi_centrality</th>\n",
       "      <th>DER_lep_eta_centrality</th>\n",
       "      <th>PRI_tau_pt</th>\n",
       "      <th>PRI_tau_eta</th>\n",
       "      <th>PRI_tau_phi</th>\n",
       "      <th>PRI_lep_pt</th>\n",
       "      <th>PRI_lep_eta</th>\n",
       "      <th>PRI_lep_phi</th>\n",
       "      <th>PRI_met</th>\n",
       "      <th>PRI_met_phi</th>\n",
       "      <th>PRI_met_sumet</th>\n",
       "      <th>PRI_jet_num</th>\n",
       "      <th>PRI_jet_leading_pt</th>\n",
       "      <th>PRI_jet_leading_eta</th>\n",
       "      <th>PRI_jet_leading_phi</th>\n",
       "      <th>PRI_jet_subleading_pt</th>\n",
       "      <th>PRI_jet_subleading_eta</th>\n",
       "      <th>PRI_jet_subleading_phi</th>\n",
       "      <th>PRI_jet_all_pt</th>\n",
       "      <th>Weight</th>\n",
       "    </tr>\n",
       "  </thead>\n",
       "  <tbody>\n",
       "    <tr>\n",
       "      <th>count</th>\n",
       "      <td>68114.000000</td>\n",
       "      <td>68114.000000</td>\n",
       "      <td>68114.000000</td>\n",
       "      <td>68114.000000</td>\n",
       "      <td>68114.000000</td>\n",
       "      <td>68114.000000</td>\n",
       "      <td>68114.000000</td>\n",
       "      <td>68114.000000</td>\n",
       "      <td>68114.000000</td>\n",
       "      <td>68114.000000</td>\n",
       "      <td>68114.000000</td>\n",
       "      <td>68114.000000</td>\n",
       "      <td>68114.000000</td>\n",
       "      <td>68114.000000</td>\n",
       "      <td>68114.000000</td>\n",
       "      <td>68114.000000</td>\n",
       "      <td>68114.000000</td>\n",
       "      <td>68114.000000</td>\n",
       "      <td>68114.000000</td>\n",
       "      <td>68114.000000</td>\n",
       "      <td>68114.000000</td>\n",
       "      <td>68114.000000</td>\n",
       "      <td>68114.000000</td>\n",
       "      <td>68114.000000</td>\n",
       "      <td>68114.000000</td>\n",
       "      <td>68114.000000</td>\n",
       "      <td>68114.000000</td>\n",
       "      <td>68114.000000</td>\n",
       "      <td>68114.000000</td>\n",
       "      <td>68114.000000</td>\n",
       "      <td>68114.000000</td>\n",
       "      <td>68114.000000</td>\n",
       "    </tr>\n",
       "    <tr>\n",
       "      <th>mean</th>\n",
       "      <td>225035.224154</td>\n",
       "      <td>122.816184</td>\n",
       "      <td>35.270300</td>\n",
       "      <td>78.496815</td>\n",
       "      <td>111.430393</td>\n",
       "      <td>2.434232</td>\n",
       "      <td>378.176455</td>\n",
       "      <td>-0.881020</td>\n",
       "      <td>1.996525</td>\n",
       "      <td>27.356644</td>\n",
       "      <td>281.524727</td>\n",
       "      <td>1.480924</td>\n",
       "      <td>0.637307</td>\n",
       "      <td>0.463833</td>\n",
       "      <td>45.716667</td>\n",
       "      <td>-0.003367</td>\n",
       "      <td>0.001104</td>\n",
       "      <td>52.433431</td>\n",
       "      <td>-0.003671</td>\n",
       "      <td>0.041897</td>\n",
       "      <td>54.959294</td>\n",
       "      <td>0.006987</td>\n",
       "      <td>334.677667</td>\n",
       "      <td>2.303711</td>\n",
       "      <td>106.879969</td>\n",
       "      <td>-0.005791</td>\n",
       "      <td>-0.011564</td>\n",
       "      <td>57.915426</td>\n",
       "      <td>-0.012930</td>\n",
       "      <td>-0.004782</td>\n",
       "      <td>183.374631</td>\n",
       "      <td>0.445788</td>\n",
       "    </tr>\n",
       "    <tr>\n",
       "      <th>std</th>\n",
       "      <td>72243.940540</td>\n",
       "      <td>60.751559</td>\n",
       "      <td>30.750262</td>\n",
       "      <td>40.728784</td>\n",
       "      <td>76.318688</td>\n",
       "      <td>1.750700</td>\n",
       "      <td>400.784254</td>\n",
       "      <td>3.592624</td>\n",
       "      <td>0.774636</td>\n",
       "      <td>28.266913</td>\n",
       "      <td>130.245426</td>\n",
       "      <td>1.097985</td>\n",
       "      <td>0.924876</td>\n",
       "      <td>0.398422</td>\n",
       "      <td>29.681876</td>\n",
       "      <td>1.179442</td>\n",
       "      <td>1.818341</td>\n",
       "      <td>28.798872</td>\n",
       "      <td>1.197358</td>\n",
       "      <td>1.815463</td>\n",
       "      <td>42.690672</td>\n",
       "      <td>1.813892</td>\n",
       "      <td>139.867044</td>\n",
       "      <td>0.459863</td>\n",
       "      <td>68.165852</td>\n",
       "      <td>1.746442</td>\n",
       "      <td>1.809276</td>\n",
       "      <td>32.224318</td>\n",
       "      <td>2.044065</td>\n",
       "      <td>1.817247</td>\n",
       "      <td>108.312736</td>\n",
       "      <td>0.747552</td>\n",
       "    </tr>\n",
       "    <tr>\n",
       "      <th>min</th>\n",
       "      <td>100000.000000</td>\n",
       "      <td>9.878000</td>\n",
       "      <td>0.000000</td>\n",
       "      <td>7.330000</td>\n",
       "      <td>0.120000</td>\n",
       "      <td>0.000000</td>\n",
       "      <td>13.602000</td>\n",
       "      <td>-18.066000</td>\n",
       "      <td>0.228000</td>\n",
       "      <td>0.004000</td>\n",
       "      <td>110.601000</td>\n",
       "      <td>0.047000</td>\n",
       "      <td>-1.414000</td>\n",
       "      <td>0.000000</td>\n",
       "      <td>20.000000</td>\n",
       "      <td>-2.496000</td>\n",
       "      <td>-3.141000</td>\n",
       "      <td>26.001000</td>\n",
       "      <td>-2.487000</td>\n",
       "      <td>-3.142000</td>\n",
       "      <td>0.200000</td>\n",
       "      <td>-3.142000</td>\n",
       "      <td>34.323000</td>\n",
       "      <td>2.000000</td>\n",
       "      <td>30.196000</td>\n",
       "      <td>-4.497000</td>\n",
       "      <td>-3.142000</td>\n",
       "      <td>30.000000</td>\n",
       "      <td>-4.500000</td>\n",
       "      <td>-3.142000</td>\n",
       "      <td>60.223000</td>\n",
       "      <td>0.001502</td>\n",
       "    </tr>\n",
       "    <tr>\n",
       "      <th>25%</th>\n",
       "      <td>162349.750000</td>\n",
       "      <td>93.320250</td>\n",
       "      <td>11.320000</td>\n",
       "      <td>57.274250</td>\n",
       "      <td>57.827000</td>\n",
       "      <td>0.897000</td>\n",
       "      <td>113.463000</td>\n",
       "      <td>-2.729000</td>\n",
       "      <td>1.397000</td>\n",
       "      <td>4.218000</td>\n",
       "      <td>192.844250</td>\n",
       "      <td>0.762250</td>\n",
       "      <td>0.191000</td>\n",
       "      <td>0.005000</td>\n",
       "      <td>26.589250</td>\n",
       "      <td>-0.889000</td>\n",
       "      <td>-1.570000</td>\n",
       "      <td>33.280250</td>\n",
       "      <td>-0.908750</td>\n",
       "      <td>-1.518000</td>\n",
       "      <td>27.081000</td>\n",
       "      <td>-1.550000</td>\n",
       "      <td>239.168250</td>\n",
       "      <td>2.000000</td>\n",
       "      <td>60.844500</td>\n",
       "      <td>-1.339000</td>\n",
       "      <td>-1.574000</td>\n",
       "      <td>37.392250</td>\n",
       "      <td>-1.628750</td>\n",
       "      <td>-1.579000</td>\n",
       "      <td>109.472000</td>\n",
       "      <td>0.001503</td>\n",
       "    </tr>\n",
       "    <tr>\n",
       "      <th>50%</th>\n",
       "      <td>225288.000000</td>\n",
       "      <td>113.230000</td>\n",
       "      <td>26.964000</td>\n",
       "      <td>70.930000</td>\n",
       "      <td>94.714000</td>\n",
       "      <td>2.146500</td>\n",
       "      <td>232.370500</td>\n",
       "      <td>-0.284000</td>\n",
       "      <td>1.940000</td>\n",
       "      <td>22.542000</td>\n",
       "      <td>246.719500</td>\n",
       "      <td>1.206000</td>\n",
       "      <td>1.071000</td>\n",
       "      <td>0.469000</td>\n",
       "      <td>36.590500</td>\n",
       "      <td>-0.011000</td>\n",
       "      <td>-0.010000</td>\n",
       "      <td>43.450000</td>\n",
       "      <td>-0.009000</td>\n",
       "      <td>0.077000</td>\n",
       "      <td>44.292000</td>\n",
       "      <td>0.005000</td>\n",
       "      <td>305.170000</td>\n",
       "      <td>2.000000</td>\n",
       "      <td>87.369000</td>\n",
       "      <td>0.000000</td>\n",
       "      <td>-0.032000</td>\n",
       "      <td>48.105500</td>\n",
       "      <td>-0.014000</td>\n",
       "      <td>-0.008000</td>\n",
       "      <td>154.136500</td>\n",
       "      <td>0.064061</td>\n",
       "    </tr>\n",
       "    <tr>\n",
       "      <th>75%</th>\n",
       "      <td>287772.750000</td>\n",
       "      <td>133.455750</td>\n",
       "      <td>52.202750</td>\n",
       "      <td>88.372000</td>\n",
       "      <td>145.824750</td>\n",
       "      <td>3.741000</td>\n",
       "      <td>489.447750</td>\n",
       "      <td>0.921000</td>\n",
       "      <td>2.574000</td>\n",
       "      <td>39.067750</td>\n",
       "      <td>331.105000</td>\n",
       "      <td>1.854000</td>\n",
       "      <td>1.342000</td>\n",
       "      <td>0.883000</td>\n",
       "      <td>54.194250</td>\n",
       "      <td>0.879750</td>\n",
       "      <td>1.580000</td>\n",
       "      <td>61.482000</td>\n",
       "      <td>0.904000</td>\n",
       "      <td>1.609000</td>\n",
       "      <td>69.416250</td>\n",
       "      <td>1.573000</td>\n",
       "      <td>396.382500</td>\n",
       "      <td>3.000000</td>\n",
       "      <td>131.069000</td>\n",
       "      <td>1.330000</td>\n",
       "      <td>1.558000</td>\n",
       "      <td>66.946500</td>\n",
       "      <td>1.604000</td>\n",
       "      <td>1.573000</td>\n",
       "      <td>223.595250</td>\n",
       "      <td>0.744056</td>\n",
       "    </tr>\n",
       "    <tr>\n",
       "      <th>max</th>\n",
       "      <td>349994.000000</td>\n",
       "      <td>988.199000</td>\n",
       "      <td>594.287000</td>\n",
       "      <td>789.538000</td>\n",
       "      <td>1053.807000</td>\n",
       "      <td>8.503000</td>\n",
       "      <td>4974.979000</td>\n",
       "      <td>16.648000</td>\n",
       "      <td>5.579000</td>\n",
       "      <td>466.525000</td>\n",
       "      <td>1852.462000</td>\n",
       "      <td>19.773000</td>\n",
       "      <td>1.414000</td>\n",
       "      <td>1.000000</td>\n",
       "      <td>622.862000</td>\n",
       "      <td>2.497000</td>\n",
       "      <td>3.142000</td>\n",
       "      <td>461.896000</td>\n",
       "      <td>2.499000</td>\n",
       "      <td>3.141000</td>\n",
       "      <td>951.363000</td>\n",
       "      <td>3.142000</td>\n",
       "      <td>2003.976000</td>\n",
       "      <td>3.000000</td>\n",
       "      <td>1120.573000</td>\n",
       "      <td>4.499000</td>\n",
       "      <td>3.141000</td>\n",
       "      <td>721.456000</td>\n",
       "      <td>4.500000</td>\n",
       "      <td>3.142000</td>\n",
       "      <td>1633.433000</td>\n",
       "      <td>7.805035</td>\n",
       "    </tr>\n",
       "  </tbody>\n",
       "</table>\n",
       "</div>"
      ],
      "text/plain": [
       "             EventId  DER_mass_MMC  ...  PRI_jet_all_pt        Weight\n",
       "count   68114.000000  68114.000000  ...    68114.000000  68114.000000\n",
       "mean   225035.224154    122.816184  ...      183.374631      0.445788\n",
       "std     72243.940540     60.751559  ...      108.312736      0.747552\n",
       "min    100000.000000      9.878000  ...       60.223000      0.001502\n",
       "25%    162349.750000     93.320250  ...      109.472000      0.001503\n",
       "50%    225288.000000    113.230000  ...      154.136500      0.064061\n",
       "75%    287772.750000    133.455750  ...      223.595250      0.744056\n",
       "max    349994.000000    988.199000  ...     1633.433000      7.805035\n",
       "\n",
       "[8 rows x 32 columns]"
      ]
     },
     "execution_count": 16,
     "metadata": {},
     "output_type": "execute_result"
    }
   ],
   "source": [
    "higgsdata.describe()"
   ]
  },
  {
   "cell_type": "code",
   "execution_count": null,
   "metadata": {
    "id": "O8eUWMdVx983"
   },
   "outputs": [],
   "source": [
    "labels = higgsdata['Label']\n",
    "weights = higgsdata['Weight']"
   ]
  },
  {
   "cell_type": "markdown",
   "metadata": {
    "id": "p8LWy7ZYHBmP"
   },
   "source": [
    "Delete as well the EventId, this feature just assigns an index to the event, doesn't contain any physics in it"
   ]
  },
  {
   "cell_type": "code",
   "execution_count": null,
   "metadata": {
    "id": "gzdEOkj-poCM"
   },
   "outputs": [],
   "source": [
    "higgsdata = higgsdata.drop(['EventId', 'Weight', 'Label'], axis=1)"
   ]
  },
  {
   "cell_type": "code",
   "execution_count": null,
   "metadata": {
    "colab": {
     "base_uri": "https://localhost:8080/"
    },
    "id": "yBHFzhkenPbP",
    "outputId": "2c4caadb-2781-4511-9478-072038ca4439"
   },
   "outputs": [
    {
     "data": {
      "text/plain": [
       "(68114, 30)"
      ]
     },
     "execution_count": 19,
     "metadata": {},
     "output_type": "execute_result"
    }
   ],
   "source": [
    "higgsdata.shape"
   ]
  },
  {
   "cell_type": "code",
   "execution_count": null,
   "metadata": {
    "colab": {
     "base_uri": "https://localhost:8080/",
     "height": 226
    },
    "id": "4bUhgZTquS4o",
    "outputId": "bf53707a-4bb3-44e7-e1e7-be0851b606f9"
   },
   "outputs": [
    {
     "data": {
      "text/html": [
       "<div>\n",
       "<style scoped>\n",
       "    .dataframe tbody tr th:only-of-type {\n",
       "        vertical-align: middle;\n",
       "    }\n",
       "\n",
       "    .dataframe tbody tr th {\n",
       "        vertical-align: top;\n",
       "    }\n",
       "\n",
       "    .dataframe thead th {\n",
       "        text-align: right;\n",
       "    }\n",
       "</style>\n",
       "<table border=\"1\" class=\"dataframe\">\n",
       "  <thead>\n",
       "    <tr style=\"text-align: right;\">\n",
       "      <th></th>\n",
       "      <th>DER_mass_MMC</th>\n",
       "      <th>DER_mass_transverse_met_lep</th>\n",
       "      <th>DER_mass_vis</th>\n",
       "      <th>DER_pt_h</th>\n",
       "      <th>DER_deltaeta_jet_jet</th>\n",
       "      <th>DER_mass_jet_jet</th>\n",
       "      <th>DER_prodeta_jet_jet</th>\n",
       "      <th>DER_deltar_tau_lep</th>\n",
       "      <th>DER_pt_tot</th>\n",
       "      <th>DER_sum_pt</th>\n",
       "      <th>DER_pt_ratio_lep_tau</th>\n",
       "      <th>DER_met_phi_centrality</th>\n",
       "      <th>DER_lep_eta_centrality</th>\n",
       "      <th>PRI_tau_pt</th>\n",
       "      <th>PRI_tau_eta</th>\n",
       "      <th>PRI_tau_phi</th>\n",
       "      <th>PRI_lep_pt</th>\n",
       "      <th>PRI_lep_eta</th>\n",
       "      <th>PRI_lep_phi</th>\n",
       "      <th>PRI_met</th>\n",
       "      <th>PRI_met_phi</th>\n",
       "      <th>PRI_met_sumet</th>\n",
       "      <th>PRI_jet_num</th>\n",
       "      <th>PRI_jet_leading_pt</th>\n",
       "      <th>PRI_jet_leading_eta</th>\n",
       "      <th>PRI_jet_leading_phi</th>\n",
       "      <th>PRI_jet_subleading_pt</th>\n",
       "      <th>PRI_jet_subleading_eta</th>\n",
       "      <th>PRI_jet_subleading_phi</th>\n",
       "      <th>PRI_jet_all_pt</th>\n",
       "    </tr>\n",
       "  </thead>\n",
       "  <tbody>\n",
       "    <tr>\n",
       "      <th>0</th>\n",
       "      <td>138.470</td>\n",
       "      <td>51.655</td>\n",
       "      <td>97.827</td>\n",
       "      <td>27.980</td>\n",
       "      <td>0.910</td>\n",
       "      <td>124.711</td>\n",
       "      <td>2.666</td>\n",
       "      <td>3.064</td>\n",
       "      <td>41.928</td>\n",
       "      <td>197.760</td>\n",
       "      <td>1.582</td>\n",
       "      <td>1.396</td>\n",
       "      <td>0.200</td>\n",
       "      <td>32.638</td>\n",
       "      <td>1.017</td>\n",
       "      <td>0.381</td>\n",
       "      <td>51.626</td>\n",
       "      <td>2.273</td>\n",
       "      <td>-2.414</td>\n",
       "      <td>16.824</td>\n",
       "      <td>-0.277</td>\n",
       "      <td>258.733</td>\n",
       "      <td>2</td>\n",
       "      <td>67.435</td>\n",
       "      <td>2.150</td>\n",
       "      <td>0.444</td>\n",
       "      <td>46.062</td>\n",
       "      <td>1.240</td>\n",
       "      <td>-2.475</td>\n",
       "      <td>113.497</td>\n",
       "    </tr>\n",
       "    <tr>\n",
       "      <th>5</th>\n",
       "      <td>89.744</td>\n",
       "      <td>13.550</td>\n",
       "      <td>59.149</td>\n",
       "      <td>116.344</td>\n",
       "      <td>2.636</td>\n",
       "      <td>284.584</td>\n",
       "      <td>-0.540</td>\n",
       "      <td>1.362</td>\n",
       "      <td>61.619</td>\n",
       "      <td>278.876</td>\n",
       "      <td>0.588</td>\n",
       "      <td>0.479</td>\n",
       "      <td>0.975</td>\n",
       "      <td>53.651</td>\n",
       "      <td>0.371</td>\n",
       "      <td>1.329</td>\n",
       "      <td>31.565</td>\n",
       "      <td>-0.884</td>\n",
       "      <td>1.857</td>\n",
       "      <td>40.735</td>\n",
       "      <td>2.237</td>\n",
       "      <td>282.849</td>\n",
       "      <td>3</td>\n",
       "      <td>90.547</td>\n",
       "      <td>-2.412</td>\n",
       "      <td>-0.653</td>\n",
       "      <td>56.165</td>\n",
       "      <td>0.224</td>\n",
       "      <td>3.106</td>\n",
       "      <td>193.660</td>\n",
       "    </tr>\n",
       "    <tr>\n",
       "      <th>6</th>\n",
       "      <td>148.754</td>\n",
       "      <td>28.862</td>\n",
       "      <td>107.782</td>\n",
       "      <td>106.130</td>\n",
       "      <td>0.733</td>\n",
       "      <td>158.359</td>\n",
       "      <td>0.113</td>\n",
       "      <td>2.941</td>\n",
       "      <td>2.545</td>\n",
       "      <td>305.967</td>\n",
       "      <td>3.371</td>\n",
       "      <td>1.393</td>\n",
       "      <td>0.791</td>\n",
       "      <td>28.850</td>\n",
       "      <td>1.113</td>\n",
       "      <td>2.409</td>\n",
       "      <td>97.240</td>\n",
       "      <td>0.675</td>\n",
       "      <td>-0.966</td>\n",
       "      <td>38.421</td>\n",
       "      <td>-1.443</td>\n",
       "      <td>294.074</td>\n",
       "      <td>2</td>\n",
       "      <td>123.010</td>\n",
       "      <td>0.864</td>\n",
       "      <td>1.450</td>\n",
       "      <td>56.867</td>\n",
       "      <td>0.131</td>\n",
       "      <td>-2.767</td>\n",
       "      <td>179.877</td>\n",
       "    </tr>\n",
       "    <tr>\n",
       "      <th>11</th>\n",
       "      <td>114.744</td>\n",
       "      <td>10.286</td>\n",
       "      <td>75.712</td>\n",
       "      <td>30.816</td>\n",
       "      <td>2.563</td>\n",
       "      <td>252.599</td>\n",
       "      <td>-1.401</td>\n",
       "      <td>2.888</td>\n",
       "      <td>36.745</td>\n",
       "      <td>239.804</td>\n",
       "      <td>1.061</td>\n",
       "      <td>1.364</td>\n",
       "      <td>0.769</td>\n",
       "      <td>35.976</td>\n",
       "      <td>-0.669</td>\n",
       "      <td>-0.342</td>\n",
       "      <td>38.188</td>\n",
       "      <td>-0.165</td>\n",
       "      <td>2.502</td>\n",
       "      <td>22.385</td>\n",
       "      <td>2.148</td>\n",
       "      <td>290.547</td>\n",
       "      <td>3</td>\n",
       "      <td>76.773</td>\n",
       "      <td>-0.790</td>\n",
       "      <td>0.303</td>\n",
       "      <td>56.876</td>\n",
       "      <td>1.773</td>\n",
       "      <td>-2.079</td>\n",
       "      <td>165.640</td>\n",
       "    </tr>\n",
       "    <tr>\n",
       "      <th>23</th>\n",
       "      <td>141.481</td>\n",
       "      <td>0.736</td>\n",
       "      <td>111.581</td>\n",
       "      <td>174.075</td>\n",
       "      <td>1.955</td>\n",
       "      <td>364.344</td>\n",
       "      <td>-0.923</td>\n",
       "      <td>1.335</td>\n",
       "      <td>6.663</td>\n",
       "      <td>440.859</td>\n",
       "      <td>0.652</td>\n",
       "      <td>1.042</td>\n",
       "      <td>0.207</td>\n",
       "      <td>98.565</td>\n",
       "      <td>0.190</td>\n",
       "      <td>-1.506</td>\n",
       "      <td>64.285</td>\n",
       "      <td>1.405</td>\n",
       "      <td>-0.952</td>\n",
       "      <td>17.960</td>\n",
       "      <td>-0.973</td>\n",
       "      <td>454.785</td>\n",
       "      <td>2</td>\n",
       "      <td>195.533</td>\n",
       "      <td>1.156</td>\n",
       "      <td>1.416</td>\n",
       "      <td>82.477</td>\n",
       "      <td>-0.798</td>\n",
       "      <td>-2.785</td>\n",
       "      <td>278.009</td>\n",
       "    </tr>\n",
       "  </tbody>\n",
       "</table>\n",
       "</div>"
      ],
      "text/plain": [
       "    DER_mass_MMC  ...  PRI_jet_all_pt\n",
       "0        138.470  ...         113.497\n",
       "5         89.744  ...         193.660\n",
       "6        148.754  ...         179.877\n",
       "11       114.744  ...         165.640\n",
       "23       141.481  ...         278.009\n",
       "\n",
       "[5 rows x 30 columns]"
      ]
     },
     "execution_count": 20,
     "metadata": {},
     "output_type": "execute_result"
    }
   ],
   "source": [
    "higgsdata.head()"
   ]
  },
  {
   "cell_type": "markdown",
   "metadata": {
    "id": "sLK2qoS_oW_j"
   },
   "source": [
    "- Use a Random Forest and a Gradiend Boosted Tree Classifier model to predict the label of the particles. get the score of the model on the training and test set and comment on the result for each model.\n"
   ]
  },
  {
   "cell_type": "code",
   "execution_count": null,
   "metadata": {
    "colab": {
     "base_uri": "https://localhost:8080/"
    },
    "id": "Htf_qENzNNcV",
    "outputId": "e76f425e-e125-4fd2-c3da-3a0af90ff3cc"
   },
   "outputs": [
    {
     "name": "stdout",
     "output_type": "stream",
     "text": [
      "Parameters currently in use:\n",
      "\n",
      "('bootstrap', True)\n",
      "('ccp_alpha', 0.0)\n",
      "('class_weight', None)\n",
      "('criterion', 'gini')\n",
      "('max_depth', None)\n",
      "('max_features', 'auto')\n",
      "('max_leaf_nodes', None)\n",
      "('max_samples', None)\n",
      "('min_impurity_decrease', 0.0)\n",
      "('min_samples_leaf', 1)\n",
      "('min_samples_split', 2)\n",
      "('min_weight_fraction_leaf', 0.0)\n",
      "('n_estimators', 100)\n",
      "('n_jobs', None)\n",
      "('oob_score', False)\n",
      "('random_state', 0)\n",
      "('verbose', 0)\n",
      "('warm_start', False)\n"
     ]
    }
   ],
   "source": [
    "# Look at parameters used by our current forest\n",
    "rf = RandomForestClassifier(random_state = 0)\n",
    "print('Parameters currently in use:\\n')\n",
    "for i in rf.get_params().items():\n",
    "  print(i)"
   ]
  },
  {
   "cell_type": "code",
   "execution_count": null,
   "metadata": {
    "colab": {
     "base_uri": "https://localhost:8080/"
    },
    "id": "XnD_qHldcoo7",
    "outputId": "b8658229-0482-42e8-8b11-c6aeec548589"
   },
   "outputs": [
    {
     "data": {
      "text/plain": [
       "array(['s', 'b'], dtype=object)"
      ]
     },
     "execution_count": 22,
     "metadata": {},
     "output_type": "execute_result"
    }
   ],
   "source": [
    "labels.unique()"
   ]
  },
  {
   "cell_type": "markdown",
   "metadata": {
    "id": "HKdxxp5boFVJ"
   },
   "source": [
    "Max Depth = 4:"
   ]
  },
  {
   "cell_type": "code",
   "execution_count": null,
   "metadata": {
    "id": "BLaiz8u9uvJJ"
   },
   "outputs": [],
   "source": [
    "rf = RandomForestClassifier(max_depth=4, random_state=345)"
   ]
  },
  {
   "cell_type": "code",
   "execution_count": null,
   "metadata": {
    "id": "2eNZHaTYy89c"
   },
   "outputs": [],
   "source": [
    "gbt = GradientBoostingClassifier(max_depth=4, random_state=345)"
   ]
  },
  {
   "cell_type": "code",
   "execution_count": null,
   "metadata": {
    "id": "yBz6Tgju3CNj"
   },
   "outputs": [],
   "source": [
    "#rf0 = rf.fit(higgsdata.values, labels)"
   ]
  },
  {
   "cell_type": "code",
   "execution_count": null,
   "metadata": {
    "id": "HNcGXuLS3iD8"
   },
   "outputs": [],
   "source": [
    "#gbt0 = gbt.fit(higgsdata.values, labels)"
   ]
  },
  {
   "cell_type": "code",
   "execution_count": null,
   "metadata": {
    "id": "V2SDHDCfaGe6"
   },
   "outputs": [],
   "source": [
    "X_train, X_test, y_Train, y_test = train_test_split(higgsdata, labels, test_size=0.2)"
   ]
  },
  {
   "cell_type": "code",
   "execution_count": null,
   "metadata": {
    "id": "-GOcB6PhaRlP"
   },
   "outputs": [],
   "source": [
    "rf1 = rf.fit(X_train, y_Train)"
   ]
  },
  {
   "cell_type": "code",
   "execution_count": null,
   "metadata": {
    "colab": {
     "base_uri": "https://localhost:8080/"
    },
    "id": "lvdkNXszagF1",
    "outputId": "4c31780d-8c15-4b20-f93e-34e8ce04236f"
   },
   "outputs": [
    {
     "data": {
      "text/plain": [
       "(0.8173643353948359, 0.8125963444175291)"
      ]
     },
     "execution_count": 29,
     "metadata": {},
     "output_type": "execute_result"
    }
   ],
   "source": [
    "#Random forest scores for training and test sets (max_depth = 4)\n",
    "rf1.score(X_train, y_Train), rf1.score(X_test, y_test)"
   ]
  },
  {
   "cell_type": "code",
   "execution_count": null,
   "metadata": {
    "id": "Kal4vR2mRrW2"
   },
   "outputs": [],
   "source": [
    "#Gradient boosting classifier for training data\n",
    "gbt1 = gbt.fit(X_train, y_Train)"
   ]
  },
  {
   "cell_type": "code",
   "execution_count": null,
   "metadata": {
    "colab": {
     "base_uri": "https://localhost:8080/"
    },
    "id": "HV8oKjzmVwhx",
    "outputId": "78c7b00b-b71e-4de2-e7d7-c3c420b83209"
   },
   "outputs": [
    {
     "data": {
      "text/plain": [
       "(0.8552054467710264, 0.8477574689862732)"
      ]
     },
     "execution_count": 31,
     "metadata": {},
     "output_type": "execute_result"
    }
   ],
   "source": [
    "#Gradient boosting score training and test data (max_depth = 4)\n",
    "gbt1.score(X_train, y_Train), gbt1.score(X_test, y_test)"
   ]
  },
  {
   "cell_type": "markdown",
   "metadata": {
    "id": "SJDIdK1wcwhJ"
   },
   "source": [
    "The above scores are for a max_depth = 4. For the random forest classifier, the train score was about perfect and the test score were both ~84%. For gradient boosting (which took significantly longer to run), the train score was about 1.5% higher than the test score. I'm not sure exactly why the train score was perfect for the RF method, but both of the test scores were relatively good given only a max_depth of 4."
   ]
  },
  {
   "cell_type": "markdown",
   "metadata": {
    "id": "3C_3_nhoPhQY"
   },
   "source": [
    "Max Depth = 12:"
   ]
  },
  {
   "cell_type": "code",
   "execution_count": null,
   "metadata": {
    "id": "Pi3Sopp9fMHB"
   },
   "outputs": [],
   "source": [
    "rf = RandomForestClassifier(max_depth=12, random_state=345)\n",
    "gbt = GradientBoostingClassifier(max_depth=12, random_state=345)"
   ]
  },
  {
   "cell_type": "code",
   "execution_count": null,
   "metadata": {
    "id": "uUo4H_dUfSTI"
   },
   "outputs": [],
   "source": [
    "rf2 = rf.fit(X_train, y_Train)"
   ]
  },
  {
   "cell_type": "code",
   "execution_count": null,
   "metadata": {
    "colab": {
     "base_uri": "https://localhost:8080/"
    },
    "id": "VHvz5lOtfLJZ",
    "outputId": "1dd83f99-f2f6-48c4-97ef-5f799b5fa3be"
   },
   "outputs": [
    {
     "data": {
      "text/plain": [
       "(0.8173643353948359, 0.8125963444175291)"
      ]
     },
     "execution_count": 34,
     "metadata": {},
     "output_type": "execute_result"
    }
   ],
   "source": [
    "#Random forest scores for training and test sets (max_depth = 12)\n",
    "rf1.score(X_train, y_Train), rf1.score(X_test, y_test)"
   ]
  },
  {
   "cell_type": "code",
   "execution_count": null,
   "metadata": {
    "id": "WD864Xgog8nK"
   },
   "outputs": [],
   "source": [
    "gbt2 = gbt.fit(X_train, y_Train)"
   ]
  },
  {
   "cell_type": "code",
   "execution_count": null,
   "metadata": {
    "colab": {
     "base_uri": "https://localhost:8080/"
    },
    "id": "FEBJ7tmUhGe6",
    "outputId": "b95773d4-c4c7-49a8-c346-84ecb3405277"
   },
   "outputs": [
    {
     "data": {
      "text/plain": [
       "(0.9992842854783359, 0.8454819056008221)"
      ]
     },
     "execution_count": 36,
     "metadata": {},
     "output_type": "execute_result"
    }
   ],
   "source": [
    "#Gradient boosting score training and test data (max_depth = 12)\n",
    "gbt2.score(X_train, y_Train), gbt2.score(X_test, y_test)"
   ]
  },
  {
   "cell_type": "markdown",
   "metadata": {
    "id": "4mXp7tGwoMeW"
   },
   "source": [
    "With a max depth of 12, these tree methods have more steps to try to efficiently classify the data. For both methods, this did not increase the test score, potential showing signs of overfitting. In the gradient boosting method, the train score did improve about 15%."
   ]
  },
  {
   "cell_type": "code",
   "execution_count": null,
   "metadata": {
    "id": "UyTFib2w6vhf"
   },
   "outputs": [],
   "source": []
  },
  {
   "cell_type": "markdown",
   "metadata": {
    "id": "6aiULt4TP8kn"
   },
   "source": [
    "- Produce a confusion matrix for each model and compare them\n",
    "\n",
    "\n",
    " \n",
    "\n"
   ]
  },
  {
   "cell_type": "code",
   "execution_count": null,
   "metadata": {
    "id": "ak3gnF6duviH"
   },
   "outputs": [],
   "source": [
    "\n",
    "# I creaded this function (mostly copied from sklearn examples). \n",
    "# You can use it to create the confusion matrix\n",
    "from mpl_toolkits.axes_grid1.axes_divider import make_axes_locatable\n",
    "from sklearn.metrics import confusion_matrix\n",
    "def plot_confusion_matrix(y_true, y_pred,\n",
    "                          normalize=False,\n",
    "                          title='',\n",
    "                          cmap=pl.cm.bone):\n",
    "    \"\"\"\n",
    "    This function prints and plots the confusion matrix.\n",
    "    Normalization can be applied by setting `normalize=True`.\n",
    "    \"\"\"         \n",
    "    if normalize:\n",
    "          title = title + ' Normalized confusion matrix'\n",
    "    else:\n",
    "          title = title + ' Confusion matrix, without normalization'\n",
    "\n",
    "    # Compute confusion matrix\n",
    "    cm = confusion_matrix(y_true, y_pred)\n",
    "    # plot it\n",
    "    fig, ax = plt.subplots(1, 1)\n",
    "    fig.subplots_adjust()\n",
    "    im = ax.imshow(cm, cmap=cmap)\n",
    "    ax_divider = make_axes_locatable(ax)\n",
    "    # add an axes to the right of the main axes.\n",
    "    pl.xticks([0, 1], labels=[\"N\", \"P\"])\n",
    "    pl.ylim(-0.5,1.5)\n",
    "    pl.yticks([0,1], labels=[\"N\", \"P\"])    \n",
    "    pl.title(title)\n",
    "    cax = ax_divider.append_axes(\"right\", size=\"10%\", pad=\"2%\")\n",
    "    cb = colorbar(im, cax=cax)\n",
    "    "
   ]
  },
  {
   "cell_type": "code",
   "execution_count": null,
   "metadata": {
    "colab": {
     "base_uri": "https://localhost:8080/",
     "height": 281
    },
    "id": "CgQcTMFuxZV4",
    "outputId": "2e2f4df6-bebf-4ae4-b216-41babe2d1c61"
   },
   "outputs": [
    {
     "data": {
      "image/png": "[encoded data removed]",
      "text/plain": [
       "<Figure size 432x288 with 2 Axes>"
      ]
     },
     "metadata": {
      "needs_background": "light"
     },
     "output_type": "display_data"
    }
   ],
   "source": [
    "plot_confusion_matrix(y_test,rf1.predict(X_test))"
   ]
  },
  {
   "cell_type": "markdown",
   "metadata": {
    "id": "QSy-RgjlJg7H"
   },
   "source": [
    "Confusion matrix for Random Forest Classifier"
   ]
  },
  {
   "cell_type": "code",
   "execution_count": null,
   "metadata": {
    "colab": {
     "base_uri": "https://localhost:8080/",
     "height": 281
    },
    "id": "YHAzxAsHJedq",
    "outputId": "23ac5447-ce76-4843-c12b-dced83ad4000"
   },
   "outputs": [
    {
     "data": {
      "image/png": "[encoded data removed]",
      "text/plain": [
       "<Figure size 432x288 with 2 Axes>"
      ]
     },
     "metadata": {
      "needs_background": "light"
     },
     "output_type": "display_data"
    }
   ],
   "source": [
    "plot_confusion_matrix(y_test,gbt1.predict(X_test))"
   ]
  },
  {
   "cell_type": "markdown",
   "metadata": {
    "id": "C1ZSsF6-JkwG"
   },
   "source": [
    "Confusion matrix for Gradient Boosting"
   ]
  },
  {
   "cell_type": "markdown",
   "metadata": {
    "id": "OhPkvxDD8Pcy"
   },
   "source": [
    "Both of the confusion matrices show nearly identical patterns. Values are under 1000 for false positives and false negatives, which is a good signal. For the true negatives, values are over 6000, and for true positives, there are over 5000. These are positive results for the accuracy of the model, consistent with the relatively high scores as well."
   ]
  },
  {
   "cell_type": "markdown",
   "metadata": {
    "id": "TbZQ3kMSQFK6"
   },
   "source": [
    "\n",
    "- Use a Random Forest and a Gradiend Boosted Tree Regressor model to predict the weight of the particles. Compare the model performance on training and test setsm\n"
   ]
  },
  {
   "cell_type": "code",
   "execution_count": null,
   "metadata": {
    "id": "p_6uYj243Be_"
   },
   "outputs": [],
   "source": [
    "traindata_weights, testdata_weights, train_weights, test_weights = train_test_split(higgsdata, weights, test_size=0.2)"
   ]
  },
  {
   "cell_type": "code",
   "execution_count": null,
   "metadata": {
    "id": "UkanVFfO3HBe"
   },
   "outputs": [],
   "source": [
    "rfR = RandomForestRegressor(n_estimators=100, max_depth=4, random_state=345)"
   ]
  },
  {
   "cell_type": "code",
   "execution_count": null,
   "metadata": {
    "id": "QYvYzgihJ1LQ"
   },
   "outputs": [],
   "source": [
    "rfR1 = rfR.fit(traindata_weights, train_weights)"
   ]
  },
  {
   "cell_type": "code",
   "execution_count": null,
   "metadata": {
    "colab": {
     "base_uri": "https://localhost:8080/"
    },
    "id": "40FYw4g5Klc3",
    "outputId": "53b8780c-ed62-415f-f059-b47618ab8b07"
   },
   "outputs": [
    {
     "data": {
      "text/plain": [
       "(0.34967171155433496, 0.3457944371459668)"
      ]
     },
     "execution_count": 43,
     "metadata": {},
     "output_type": "execute_result"
    }
   ],
   "source": [
    "rfR1.score(traindata_weights, train_weights), rfR1.score(testdata_weights, test_weights)"
   ]
  },
  {
   "cell_type": "markdown",
   "metadata": {
    "id": "f07kkGXvLxtp"
   },
   "source": [
    "Now, let's create the gradient boosting regressor"
   ]
  },
  {
   "cell_type": "code",
   "execution_count": null,
   "metadata": {
    "id": "y7XMVqtGL0L_"
   },
   "outputs": [],
   "source": [
    "gbR = GradientBoostingRegressor(n_estimators=100, max_depth=4, random_state=345)"
   ]
  },
  {
   "cell_type": "code",
   "execution_count": null,
   "metadata": {
    "id": "7YX2q_BxMKOk"
   },
   "outputs": [],
   "source": [
    "gbR1 = gbR.fit(traindata_weights, train_weights)"
   ]
  },
  {
   "cell_type": "code",
   "execution_count": null,
   "metadata": {
    "colab": {
     "base_uri": "https://localhost:8080/"
    },
    "id": "VPuGzZk2MQbi",
    "outputId": "5fe58219-48c0-4e7b-cc17-7468838db15d"
   },
   "outputs": [
    {
     "data": {
      "text/plain": [
       "(0.5049934870064997, 0.4540743179211295)"
      ]
     },
     "execution_count": 46,
     "metadata": {},
     "output_type": "execute_result"
    }
   ],
   "source": [
    "gbR1.score(traindata_weights, train_weights), gbR1.score(testdata_weights, test_weights)"
   ]
  },
  {
   "cell_type": "markdown",
   "metadata": {
    "id": "vXqxLLgn9RLP"
   },
   "source": [
    "The score results for RF and gradient boosting regressor on weights are not as good as the results for the labels. Although the scores are 10-15% higher for gradient boosting regressor, the values are still around or less than 50%. This shows that the models have an easier time predicting labels than weights - which somewhat makes sense because of the more complex division of weights versus only two labels."
   ]
  },
  {
   "cell_type": "markdown",
   "metadata": {
    "id": "CKvyqcFr3Z3d"
   },
   "source": [
    " Calculate the L2 and L1 loss functions for the fitted regression models (see slides for the definition) and discuss the results"
   ]
  },
  {
   "cell_type": "code",
   "execution_count": null,
   "metadata": {
    "id": "qbLhyhvb2Tka"
   },
   "outputs": [],
   "source": [
    "# Calculate the L1 and L2 metric for both methods\n",
    "L1_rf = np.sum(np.abs(rfR1.predict(testdata_weights)-test_weights))\n",
    "L1_gb = np.sum(np.abs(gbR1.predict(testdata_weights)-test_weights))\n",
    "\n",
    "L2_rf = np.sum((rfR1.predict(testdata_weights)-test_weights)**2)\n",
    "L2_gb = np.sum((gbR1.predict(testdata_weights)-test_weights)**2)"
   ]
  },
  {
   "cell_type": "code",
   "execution_count": null,
   "metadata": {
    "colab": {
     "base_uri": "https://localhost:8080/"
    },
    "id": "iVuceuuL2379",
    "outputId": "13e7be76-81d1-43b6-cc98-5011c50a1f73"
   },
   "outputs": [
    {
     "name": "stdout",
     "output_type": "stream",
     "text": [
      "The L1 metric is \n",
      "\n",
      "Random Forest: 5380.17\n",
      "Gradient Booster: 4680.93 \n",
      "\n",
      "The L2 metric is \n",
      "\n",
      "Random Forest: 5089.50\n",
      "Gradient Booster: 4247.12 \n",
      "\n"
     ]
    }
   ],
   "source": [
    "print(\"The L1 metric is \\n\")\n",
    "print(\"Random Forest: {:.2f}\".format(L1_rf))\n",
    "print(\"Gradient Booster: {:.2f} \\n\".format(L1_gb))\n",
    "print(\"The L2 metric is \\n\")\n",
    "print(\"Random Forest: {:.2f}\".format(L2_rf))\n",
    "print(\"Gradient Booster: {:.2f} \\n\".format(L2_gb))"
   ]
  },
  {
   "cell_type": "markdown",
   "metadata": {
    "id": "c38At7ayYd_5"
   },
   "source": [
    "- For the Random Forest classifier, find the 4 most important features based on the simple unoptimized model you created earlier on. Use the documentation to find out what they are. We have not talked abotu the physics of this problem at all but the Kaggle challenge description should provide enogh information for you to comment on this result is somewhat superficially.\n",
    "\n",
    "    You can use ```rf.feature_importance_``` on the trained model to extract the relative importance of each feature (a number from 0 to 1) and then choose the features that have the 4 highest numbers (the numpy function ```argsort()``` is helpful here!)\n",
    "\n",
    "- Explore the parameter space with the sklearn module ```sklearn.model_selection.RandomizedSearchCV``` *fitting only those 4 features*\n",
    "\n",
    "    Follow this example to set up the parameter search. Set the estimators to 10 and 100, (the number of trees) and the max depth to 3, and 10, and None (let it be unconstrained). Set bootstrap to both True and False. Set the number of features to consider at every split to both \"autp\" and \"sqrt\". Use ```pprint``` like I did earlier in this notebook to print the parameters set\n",
    "\n",
    "**this takes some computational time! so do not start this at the last minute!!**\n",
    "\n",
    " \n",
    "\n"
   ]
  },
  {
   "cell_type": "code",
   "execution_count": null,
   "metadata": {
    "colab": {
     "base_uri": "https://localhost:8080/"
    },
    "id": "n-yxmNgsSw_X",
    "outputId": "99745465-c18a-400b-98f3-9ab2c514bb15"
   },
   "outputs": [
    {
     "name": "stdout",
     "output_type": "stream",
     "text": [
      "Feature ranking:\n",
      "1. feature 0 DER_mass_MMC (0.337654)\n",
      "2. feature 2 DER_mass_vis (0.124252)\n",
      "3. feature 4 DER_deltaeta_jet_jet (0.098346)\n",
      "4. feature 6 DER_prodeta_jet_jet (0.097638)\n"
     ]
    }
   ],
   "source": [
    "importancesrf = rf1.feature_importances_\n",
    "std = np.std([onetree.feature_importances_ for onetree in rf1.estimators_],\n",
    "             axis=0)\n",
    "indicesrf = np.argsort(importancesrf)[::-1]\n",
    "best_features_index = np.zeros(4)\n",
    "# Print the feature ranking\n",
    "print(\"Feature ranking:\")\n",
    "\n",
    "for f in range(4):\n",
    "  best_features_index[f] = indicesrf[f]\n",
    "  print(\"%d. feature %d %s (%f)\" % (f + 1, indicesrf[f], higgsdata.columns[indicesrf[f]], importancesrf[indicesrf[f]]))"
   ]
  },
  {
   "cell_type": "markdown",
   "metadata": {
    "id": "jmJZCrvpXdMa"
   },
   "source": [
    "These are the 4 most important features in our dataset. The documentation found [here](https://higgsml.lal.in2p3.fr/files/2014/04/documentation_v1.8.pdf) tells us what is the meaning of these four features.\n",
    "\n",
    "\n",
    "\n",
    "1.   DER_mass_MMC: Estimated mass of the Higgs Boson candidate. Therefore, it was expected to be the most important feature of the data.\n",
    "2.   DER_mass_vis: Invariant mass of the two particles.\n",
    "3.   DER_deltaeta_jet_jet:  The absolute value of the pseudorapidity separation between the two jets\n",
    "4.   DER_lep_eta_centrality: The pseudorapidity η of the lepton\n"
   ]
  },
  {
   "cell_type": "markdown",
   "metadata": {
    "id": "VFO4NsWhpY9d"
   },
   "source": [
    "Using the guide in https://towardsdatascience.com/machine-learning-gridsearchcv-randomizedsearchcv-d36b89231b10 we build the RandomSearcher"
   ]
  },
  {
   "cell_type": "code",
   "execution_count": null,
   "metadata": {
    "id": "FecmKEyKsnHC"
   },
   "outputs": [],
   "source": [
    "#We used the code provided in the skeleton notebook for this part of the homework\n",
    "\n",
    "n_estimators = [10, 100]\n",
    "# Number of features to consider at every split\n",
    "max_features = ['auto', 'sqrt']\n",
    "# Maximum number of levels in tree\n",
    "max_depth = [3, 10]\n",
    "max_depth.append(None)\n",
    "# Method of selecting samples for training each tree\n",
    "bootstrap = [True, False]\n",
    "# Create the random grid\n",
    "random_grid = {'n_estimators': n_estimators,\n",
    "               'max_features': max_features,\n",
    "               'max_depth': max_depth,\n",
    "               'bootstrap': bootstrap}"
   ]
  },
  {
   "cell_type": "code",
   "execution_count": null,
   "metadata": {
    "colab": {
     "base_uri": "https://localhost:8080/"
    },
    "id": "t-QQqGlp5ty3",
    "outputId": "79b7d9e8-388b-4101-c9c6-5d8f06b2457e"
   },
   "outputs": [
    {
     "name": "stdout",
     "output_type": "stream",
     "text": [
      "Pretty printing has been turned OFF\n"
     ]
    }
   ],
   "source": [
    "pprint(random_grid)"
   ]
  },
  {
   "cell_type": "code",
   "execution_count": null,
   "metadata": {
    "colab": {
     "base_uri": "https://localhost:8080/"
    },
    "id": "Ay-R0rHNtR9m",
    "outputId": "ca0686d7-df19-412f-dc68-64818375b4e4"
   },
   "outputs": [
    {
     "data": {
      "text/plain": [
       "{'n_estimators': [10, 100], 'max_features': ['auto', 'sqrt'], 'max_depth': [3, 10, None], 'bootstrap': [True, False]}"
      ]
     },
     "execution_count": 52,
     "metadata": {},
     "output_type": "execute_result"
    }
   ],
   "source": [
    "random_grid"
   ]
  },
  {
   "cell_type": "markdown",
   "metadata": {
    "id": "SfdKk4Pk7tTz"
   },
   "source": [
    " mine and your best features do not necessarily have to be the same because our models may be different (different parameters, different random seed etc)"
   ]
  },
  {
   "cell_type": "code",
   "execution_count": null,
   "metadata": {
    "id": "Wgh8TOENZn6p"
   },
   "outputs": [],
   "source": [
    "higgs_best = higgsdata.iloc[:, best_features_index]"
   ]
  },
  {
   "cell_type": "code",
   "execution_count": null,
   "metadata": {
    "id": "0LTvzjd8w2AY"
   },
   "outputs": [],
   "source": [
    "X_test_bhiggs, X_train_bhiggs, y_test_bhiggs, y_train_bhiggs = train_test_split(higgs_best, labels, test_size=0.2)"
   ]
  },
  {
   "cell_type": "code",
   "execution_count": null,
   "metadata": {
    "id": "1AJ70oqZPvL_"
   },
   "outputs": [],
   "source": [
    "# Use the random grid to search for best hyperparameters\n",
    "# First create the base model to tune\n",
    "# Random search of parameters, using 3 fold cross validation, \n",
    "# search across 24 different combinations\n",
    "random_search = RandomizedSearchCV(RandomForestClassifier(), param_distributions=random_grid, n_iter=10, cv=3)"
   ]
  },
  {
   "cell_type": "markdown",
   "metadata": {
    "id": "T3W60KM1Jb5r"
   },
   "source": [
    "Note that this may take a long time! It took 1 hour for me to run this. Dont start at the last minute!!"
   ]
  },
  {
   "cell_type": "code",
   "execution_count": null,
   "metadata": {
    "colab": {
     "base_uri": "https://localhost:8080/"
    },
    "id": "nCzypqyrtsEg",
    "outputId": "c844b53d-a479-4a76-83dd-104e21130165"
   },
   "outputs": [
    {
     "data": {
      "text/plain": [
       "RandomizedSearchCV(cv=3, estimator=RandomForestClassifier(),\n",
       "                   param_distributions={'bootstrap': [True, False],\n",
       "                                        'max_depth': [3, 10, None],\n",
       "                                        'max_features': ['auto', 'sqrt'],\n",
       "                                        'n_estimators': [10, 100]})"
      ]
     },
     "execution_count": 56,
     "metadata": {},
     "output_type": "execute_result"
    }
   ],
   "source": [
    "random_search.fit(X_test_bhiggs, y_test_bhiggs)"
   ]
  },
  {
   "cell_type": "code",
   "execution_count": null,
   "metadata": {
    "colab": {
     "base_uri": "https://localhost:8080/"
    },
    "id": "FpjsWAOhyFIn",
    "outputId": "31f3169c-03b2-428a-aa49-554719ed8afb"
   },
   "outputs": [
    {
     "data": {
      "text/plain": [
       "({'n_estimators': 100, 'max_features': 'auto', 'max_depth': 10, 'bootstrap': True}, 0.8043713380139166)"
      ]
     },
     "execution_count": 57,
     "metadata": {},
     "output_type": "execute_result"
    }
   ],
   "source": [
    "random_search.best_params_, random_search.best_score_"
   ]
  },
  {
   "cell_type": "code",
   "execution_count": null,
   "metadata": {
    "colab": {
     "base_uri": "https://localhost:8080/"
    },
    "id": "4GfLrtvPBVT7",
    "outputId": "027396a7-2df4-47ac-a17e-8914bdcfe098"
   },
   "outputs": [
    {
     "name": "stdout",
     "output_type": "stream",
     "text": [
      "Tuned RF  Parameters: {'n_estimators': 100, 'max_features': 'auto', 'max_depth': 10, 'bootstrap': True}\n",
      "Best score is 0.8043713380139166\n"
     ]
    }
   ],
   "source": [
    "print(\"Tuned RF  Parameters: {}\".format(random_search.best_params_))\n",
    "print(\"Best score is {}\".format(random_search.best_score_))"
   ]
  },
  {
   "cell_type": "code",
   "execution_count": null,
   "metadata": {
    "id": "WaHvlFa27EV4"
   },
   "outputs": [],
   "source": [
    "df = pd.DataFrame(random_search.cv_results_)"
   ]
  },
  {
   "cell_type": "code",
   "execution_count": null,
   "metadata": {
    "id": "6pcXfIzb7eEw"
   },
   "outputs": [],
   "source": [
    "#df"
   ]
  },
  {
   "cell_type": "code",
   "execution_count": null,
   "metadata": {
    "colab": {
     "base_uri": "https://localhost:8080/",
     "height": 487
    },
    "id": "v5743l23qrHz",
    "outputId": "fac035c2-0e64-4272-eeac-15b39993e469"
   },
   "outputs": [
    {
     "data": {
      "text/html": [
       "<div>\n",
       "<style scoped>\n",
       "    .dataframe tbody tr th:only-of-type {\n",
       "        vertical-align: middle;\n",
       "    }\n",
       "\n",
       "    .dataframe tbody tr th {\n",
       "        vertical-align: top;\n",
       "    }\n",
       "\n",
       "    .dataframe thead th {\n",
       "        text-align: right;\n",
       "    }\n",
       "</style>\n",
       "<table border=\"1\" class=\"dataframe\">\n",
       "  <thead>\n",
       "    <tr style=\"text-align: right;\">\n",
       "      <th></th>\n",
       "      <th>mean_fit_time</th>\n",
       "      <th>std_fit_time</th>\n",
       "      <th>mean_score_time</th>\n",
       "      <th>std_score_time</th>\n",
       "      <th>param_n_estimators</th>\n",
       "      <th>param_max_features</th>\n",
       "      <th>param_max_depth</th>\n",
       "      <th>param_bootstrap</th>\n",
       "      <th>params</th>\n",
       "      <th>split0_test_score</th>\n",
       "      <th>split1_test_score</th>\n",
       "      <th>split2_test_score</th>\n",
       "      <th>mean_test_score</th>\n",
       "      <th>std_test_score</th>\n",
       "      <th>rank_test_score</th>\n",
       "    </tr>\n",
       "  </thead>\n",
       "  <tbody>\n",
       "    <tr>\n",
       "      <th>0</th>\n",
       "      <td>0.725828</td>\n",
       "      <td>0.012523</td>\n",
       "      <td>0.069364</td>\n",
       "      <td>0.001167</td>\n",
       "      <td>10</td>\n",
       "      <td>sqrt</td>\n",
       "      <td>10</td>\n",
       "      <td>True</td>\n",
       "      <td>{'n_estimators': 10, 'max_features': 'sqrt', '...</td>\n",
       "      <td>0.802797</td>\n",
       "      <td>0.804283</td>\n",
       "      <td>0.800914</td>\n",
       "      <td>0.802665</td>\n",
       "      <td>0.001379</td>\n",
       "      <td>3</td>\n",
       "    </tr>\n",
       "    <tr>\n",
       "      <th>1</th>\n",
       "      <td>3.553736</td>\n",
       "      <td>0.010319</td>\n",
       "      <td>0.165165</td>\n",
       "      <td>0.003000</td>\n",
       "      <td>100</td>\n",
       "      <td>sqrt</td>\n",
       "      <td>3</td>\n",
       "      <td>False</td>\n",
       "      <td>{'n_estimators': 100, 'max_features': 'sqrt', ...</td>\n",
       "      <td>0.783308</td>\n",
       "      <td>0.787106</td>\n",
       "      <td>0.786269</td>\n",
       "      <td>0.785561</td>\n",
       "      <td>0.001630</td>\n",
       "      <td>7</td>\n",
       "    </tr>\n",
       "    <tr>\n",
       "      <th>2</th>\n",
       "      <td>10.283362</td>\n",
       "      <td>0.020810</td>\n",
       "      <td>0.491445</td>\n",
       "      <td>0.002375</td>\n",
       "      <td>100</td>\n",
       "      <td>auto</td>\n",
       "      <td>None</td>\n",
       "      <td>True</td>\n",
       "      <td>{'n_estimators': 100, 'max_features': 'auto', ...</td>\n",
       "      <td>0.793988</td>\n",
       "      <td>0.795364</td>\n",
       "      <td>0.791995</td>\n",
       "      <td>0.793782</td>\n",
       "      <td>0.001383</td>\n",
       "      <td>5</td>\n",
       "    </tr>\n",
       "    <tr>\n",
       "      <th>3</th>\n",
       "      <td>3.521509</td>\n",
       "      <td>0.015667</td>\n",
       "      <td>0.163024</td>\n",
       "      <td>0.000958</td>\n",
       "      <td>100</td>\n",
       "      <td>auto</td>\n",
       "      <td>3</td>\n",
       "      <td>False</td>\n",
       "      <td>{'n_estimators': 100, 'max_features': 'auto', ...</td>\n",
       "      <td>0.784189</td>\n",
       "      <td>0.787216</td>\n",
       "      <td>0.786269</td>\n",
       "      <td>0.785891</td>\n",
       "      <td>0.001265</td>\n",
       "      <td>6</td>\n",
       "    </tr>\n",
       "    <tr>\n",
       "      <th>4</th>\n",
       "      <td>1.070976</td>\n",
       "      <td>0.002916</td>\n",
       "      <td>0.089862</td>\n",
       "      <td>0.002136</td>\n",
       "      <td>10</td>\n",
       "      <td>sqrt</td>\n",
       "      <td>None</td>\n",
       "      <td>True</td>\n",
       "      <td>{'n_estimators': 10, 'max_features': 'sqrt', '...</td>\n",
       "      <td>0.777472</td>\n",
       "      <td>0.780115</td>\n",
       "      <td>0.774542</td>\n",
       "      <td>0.777376</td>\n",
       "      <td>0.002276</td>\n",
       "      <td>10</td>\n",
       "    </tr>\n",
       "  </tbody>\n",
       "</table>\n",
       "</div>"
      ],
      "text/plain": [
       "   mean_fit_time  std_fit_time  ...  std_test_score  rank_test_score\n",
       "0       0.725828      0.012523  ...        0.001379                3\n",
       "1       3.553736      0.010319  ...        0.001630                7\n",
       "2      10.283362      0.020810  ...        0.001383                5\n",
       "3       3.521509      0.015667  ...        0.001265                6\n",
       "4       1.070976      0.002916  ...        0.002276               10\n",
       "\n",
       "[5 rows x 15 columns]"
      ]
     },
     "execution_count": 71,
     "metadata": {},
     "output_type": "execute_result"
    }
   ],
   "source": [
    "df.head()"
   ]
  },
  {
   "cell_type": "markdown",
   "metadata": {
    "id": "e1r9zN9yI-at"
   },
   "source": [
    "# Plot a simple 3-point ROC curve for the model with the best parameters found in the previous step. Describe it. "
   ]
  },
  {
   "cell_type": "code",
   "execution_count": null,
   "metadata": {
    "id": "tZ6QKA4uyHgR"
   },
   "outputs": [],
   "source": [
    "#use RF classifier using the best parameters found above\n",
    "rf = RandomForestClassifier(n_estimators=100,max_features='auto',max_depth=10, bootstrap='True')"
   ]
  },
  {
   "cell_type": "code",
   "execution_count": null,
   "metadata": {
    "colab": {
     "base_uri": "https://localhost:8080/"
    },
    "id": "Wl2NKYAy9LYt",
    "outputId": "75ba60f6-1ff3-41e3-c300-d9794e2df9ca"
   },
   "outputs": [
    {
     "data": {
      "text/plain": [
       "RandomForestClassifier(bootstrap='True', max_depth=10)"
      ]
     },
     "execution_count": 62,
     "metadata": {},
     "output_type": "execute_result"
    }
   ],
   "source": [
    "rf.fit(X_train, y_Train.values.flatten()==\"s\")"
   ]
  },
  {
   "cell_type": "code",
   "execution_count": null,
   "metadata": {
    "colab": {
     "base_uri": "https://localhost:8080/",
     "height": 295
    },
    "id": "Ap4ZcVFm7zyD",
    "outputId": "4ecc318a-3133-48d2-9e87-88d70a1c2fc4"
   },
   "outputs": [
    {
     "data": {
      "image/png": "[encoded data removed]",
      "text/plain": [
       "<Figure size 432x288 with 1 Axes>"
      ]
     },
     "metadata": {
      "needs_background": "light"
     },
     "output_type": "display_data"
    }
   ],
   "source": [
    "# The random forest model by itself\n",
    "from sklearn.metrics import roc_curve\n",
    "y_pred_grd_rfcat = rf.predict_proba(X_train)[:, 1]\n",
    "\n",
    "fpr_rf, tpr_rf, _ = roc_curve(y_test.values.flatten()==\"s\", rf.predict(X_test))\n",
    "\n",
    "plt.figure(1)\n",
    "plt.plot([0, 1], [0, 1], 'k--')\n",
    "plt.plot(fpr_rf, tpr_rf, label='RF')\n",
    "plt.xlabel('False positive rate')\n",
    "plt.ylabel('True positive rate')\n",
    "plt.title('ROC curve')\n",
    "plt.legend(loc='best')\n",
    "plt.show()\n"
   ]
  },
  {
   "cell_type": "markdown",
   "metadata": {
    "id": "ae_hFHvB_JRB"
   },
   "source": [
    "ROC curve for RF classifier on label data, using best parameters found from random search. This curve the relationship of false positive and false negative results, essentially demonstrating model performance. Depending on what we care about the most (for example if we care the most about false positives), these figures can be very useful. In this case, the best parameters resulted in an ROC curve with best results around true positive: 0.81, false positive:0.18"
   ]
  },
  {
   "cell_type": "markdown",
   "metadata": {
    "id": "pQEzY4EOmAMy"
   },
   "source": [
    "***661: Check results with kaggle script***"
   ]
  },
  {
   "cell_type": "code",
   "execution_count": null,
   "metadata": {
    "colab": {
     "base_uri": "https://localhost:8080/"
    },
    "id": "QduWMEeumXVa",
    "outputId": "41cd7e3a-4337-4236-b811-39c46798ddf2"
   },
   "outputs": [
    {
     "name": "stdout",
     "output_type": "stream",
     "text": [
      "HiggsBosonCompetition_AMSMetric_rev1.py  test.csv  training.csv\n",
      "random_submission.zip                    test.zip  training.zip\n"
     ]
    }
   ],
   "source": [
    "ls"
   ]
  },
  {
   "cell_type": "code",
   "execution_count": null,
   "metadata": {
    "id": "0jiROnM7-E0n"
   },
   "outputs": [],
   "source": [
    "%load HiggsBosonCompetition_AMSMetric_rev1.py"
   ]
  },
  {
   "cell_type": "code",
   "execution_count": null,
   "metadata": {
    "id": "9ByEyOlGmxsb"
   },
   "outputs": [],
   "source": [
    "import os\n",
    "import csv\n",
    "import math"
   ]
  },
  {
   "cell_type": "code",
   "execution_count": null,
   "metadata": {
    "id": "sUpOGLvtwsdV"
   },
   "outputs": [],
   "source": [
    "best = rf.fit(X_train, y_Train.values)"
   ]
  },
  {
   "cell_type": "code",
   "execution_count": null,
   "metadata": {
    "id": "PUILPeTExEi9"
   },
   "outputs": [],
   "source": []
  },
  {
   "cell_type": "code",
   "execution_count": null,
   "metadata": {
    "id": "-77QhRveuQtC"
   },
   "outputs": [],
   "source": [
    "solution = pd.DataFrame()"
   ]
  },
  {
   "cell_type": "code",
   "execution_count": null,
   "metadata": {
    "id": "Bo4VRP-lwZQ8"
   },
   "outputs": [],
   "source": [
    "solution['EventID'] = "
   ]
  },
  {
   "cell_type": "code",
   "execution_count": null,
   "metadata": {
    "colab": {
     "base_uri": "https://localhost:8080/",
     "height": 32
    },
    "id": "qB_7QEkhwRmB",
    "outputId": "236657e4-aed7-41c4-cb25-b87a86f94f6b"
   },
   "outputs": [
    {
     "data": {
      "text/html": [
       "<div>\n",
       "<style scoped>\n",
       "    .dataframe tbody tr th:only-of-type {\n",
       "        vertical-align: middle;\n",
       "    }\n",
       "\n",
       "    .dataframe tbody tr th {\n",
       "        vertical-align: top;\n",
       "    }\n",
       "\n",
       "    .dataframe thead th {\n",
       "        text-align: right;\n",
       "    }\n",
       "</style>\n",
       "<table border=\"1\" class=\"dataframe\">\n",
       "  <thead>\n",
       "    <tr style=\"text-align: right;\">\n",
       "      <th></th>\n",
       "    </tr>\n",
       "  </thead>\n",
       "  <tbody>\n",
       "  </tbody>\n",
       "</table>\n",
       "</div>"
      ],
      "text/plain": [
       "Empty DataFrame\n",
       "Columns: []\n",
       "Index: []"
      ]
     },
     "execution_count": 85,
     "metadata": {},
     "output_type": "execute_result"
    }
   ],
   "source": [
    "solution"
   ]
  },
  {
   "cell_type": "code",
   "execution_count": null,
   "metadata": {
    "id": "ENRMChUSnE9r"
   },
   "outputs": [],
   "source": [
    "def create_solution_dictionary(solution):\n",
    "    \"\"\" Read solution file, return a dictionary with key EventId and value (weight,label).\n",
    "    Solution file headers: EventId, Label, Weight \"\"\"\n",
    "    \n",
    "    solnDict = {}\n",
    "    with open(solution, 'rb') as f:\n",
    "        soln = csv.reader(f)\n",
    "        soln.next() # header\n",
    "        for row in soln:\n",
    "            if row[0] not in solnDict:\n",
    "                solnDict[row[0]] = (row[1], row[2])\n",
    "    return solnDict\n"
   ]
  },
  {
   "cell_type": "code",
   "execution_count": null,
   "metadata": {
    "id": "pQT3J2G-nuC6"
   },
   "outputs": [],
   "source": [
    "def check_submission(submission, Nelements):\n",
    "    \"\"\" Check that submission RankOrder column is correct:\n",
    "        1. All numbers are in [1,NTestSet]\n",
    "        2. All numbers are unqiue\n",
    "    \"\"\"\n",
    "    rankOrderSet = set()    \n",
    "    with open(submission, 'rb') as f:\n",
    "        sub = csv.reader(f)\n",
    "        sub.next() # header\n",
    "        for row in sub:\n",
    "            rankOrderSet.add(row[1])\n",
    "            \n",
    "    if len(rankOrderSet) != Nelements:\n",
    "        print('RankOrder column must contain unique values')\n",
    "        exit()\n",
    "    elif rankOrderSet.isdisjoint(set(xrange(1,Nelements+1))) == False:\n",
    "        print('RankOrder column must contain all numbers from [1..NTestSset]')\n",
    "        exit()\n",
    "    else:\n",
    "        return True\n"
   ]
  },
  {
   "cell_type": "code",
   "execution_count": null,
   "metadata": {
    "id": "dOxg8lzMnRTa"
   },
   "outputs": [],
   "source": [
    "def AMS(s, b):\n",
    "    \"\"\" Approximate Median Significance defined as:\n",
    "        AMS = sqrt(\n",
    "                2 { (s + b + b_r) log[1 + (s/(b+b_r))] - s}\n",
    "              )        \n",
    "    where b_r = 10, b = background, s = signal, log is natural logarithm \"\"\"\n",
    "    \n",
    "    br = 10.0\n",
    "    radicand = 2 *( (s+b+br) * math.log (1.0 + s/(b+br)) -s)\n",
    "    if radicand < 0:\n",
    "        print('radicand is negative. Exiting')\n",
    "        exit()\n",
    "    else:\n",
    "        return math.sqrt(radicand)\n"
   ]
  },
  {
   "cell_type": "code",
   "execution_count": null,
   "metadata": {
    "id": "QKOIopPUnYSi"
   },
   "outputs": [],
   "source": [
    "def AMS_metric(solution, submission):\n",
    "    \"\"\"  Prints the AMS metric value to screen.\n",
    "    Solution File header: EventId, Class, Weight\n",
    "    Submission File header: EventId, RankOrder, Class\n",
    "    \"\"\"\n",
    "    \n",
    "    numEvents = 550000 # number of events = size of test set\n",
    "    \n",
    "    # solutionDict: key=eventId, value=(label, class)\n",
    "    solutionDict = create_solution_dictionary(solution)\n",
    "\n",
    "    signal = 0.0\n",
    "    background = 0.0\n",
    "    if check_submission(submission, numEvents):\n",
    "        with open(submission, 'rb') as f:\n",
    "            sub = csv.reader(f)\n",
    "            sub.next() # header row\n",
    "            for row in sub:\n",
    "                if row[2] == 's': # only events predicted to be signal are scored\n",
    "                    if solutionDict[row[0]][0] == 's':\n",
    "                        signal += float(solutionDict[row[0]][1])\n",
    "                    elif solutionDict[row[0]][0] == 'b':\n",
    "                        background += float(solutionDict[row[0]][1])\n",
    "     \n",
    "        print('signal = {0}, background = {1}'.format(signal, background))\n",
    "        print('AMS = ' + str(AMS(signal, background)))\n"
   ]
  },
  {
   "cell_type": "code",
   "execution_count": null,
   "metadata": {
    "colab": {
     "base_uri": "https://localhost:8080/",
     "height": 368
    },
    "id": "XNIyVDIanbJC",
    "outputId": "e206ce5b-81af-477d-b9c0-c39efa6246b9"
   },
   "outputs": [
    {
     "ename": "FileNotFoundError",
     "evalue": "ignored",
     "output_type": "error",
     "traceback": [
      "\u001b[0;31m---------------------------------------------------------------------------\u001b[0m",
      "\u001b[0;31mFileNotFoundError\u001b[0m                         Traceback (most recent call last)",
      "\u001b[0;32m<ipython-input-83-ac96a051b4bd>\u001b[0m in \u001b[0;36m<module>\u001b[0;34m()\u001b[0m\n\u001b[1;32m      6\u001b[0m     \u001b[0msubmissionFile\u001b[0m \u001b[0;34m=\u001b[0m \u001b[0;34m\"\"\u001b[0m\u001b[0;34m\u001b[0m\u001b[0;34m\u001b[0m\u001b[0m\n\u001b[1;32m      7\u001b[0m \u001b[0;34m\u001b[0m\u001b[0m\n\u001b[0;32m----> 8\u001b[0;31m     \u001b[0mAMS_metric\u001b[0m\u001b[0;34m(\u001b[0m\u001b[0msolutionFile\u001b[0m\u001b[0;34m,\u001b[0m \u001b[0msubmissionFile\u001b[0m\u001b[0;34m)\u001b[0m\u001b[0;34m\u001b[0m\u001b[0;34m\u001b[0m\u001b[0m\n\u001b[0m",
      "\u001b[0;32m<ipython-input-82-0a4c3d178037>\u001b[0m in \u001b[0;36mAMS_metric\u001b[0;34m(solution, submission)\u001b[0m\n\u001b[1;32m      8\u001b[0m \u001b[0;34m\u001b[0m\u001b[0m\n\u001b[1;32m      9\u001b[0m     \u001b[0;31m# solutionDict: key=eventId, value=(label, class)\u001b[0m\u001b[0;34m\u001b[0m\u001b[0;34m\u001b[0m\u001b[0;34m\u001b[0m\u001b[0m\n\u001b[0;32m---> 10\u001b[0;31m     \u001b[0msolutionDict\u001b[0m \u001b[0;34m=\u001b[0m \u001b[0mcreate_solution_dictionary\u001b[0m\u001b[0;34m(\u001b[0m\u001b[0msolution\u001b[0m\u001b[0;34m)\u001b[0m\u001b[0;34m\u001b[0m\u001b[0;34m\u001b[0m\u001b[0m\n\u001b[0m\u001b[1;32m     11\u001b[0m \u001b[0;34m\u001b[0m\u001b[0m\n\u001b[1;32m     12\u001b[0m     \u001b[0msignal\u001b[0m \u001b[0;34m=\u001b[0m \u001b[0;36m0.0\u001b[0m\u001b[0;34m\u001b[0m\u001b[0;34m\u001b[0m\u001b[0m\n",
      "\u001b[0;32m<ipython-input-78-cb6e5ea89198>\u001b[0m in \u001b[0;36mcreate_solution_dictionary\u001b[0;34m(solution)\u001b[0m\n\u001b[1;32m      4\u001b[0m \u001b[0;34m\u001b[0m\u001b[0m\n\u001b[1;32m      5\u001b[0m     \u001b[0msolnDict\u001b[0m \u001b[0;34m=\u001b[0m \u001b[0;34m{\u001b[0m\u001b[0;34m}\u001b[0m\u001b[0;34m\u001b[0m\u001b[0;34m\u001b[0m\u001b[0m\n\u001b[0;32m----> 6\u001b[0;31m     \u001b[0;32mwith\u001b[0m \u001b[0mopen\u001b[0m\u001b[0;34m(\u001b[0m\u001b[0msolution\u001b[0m\u001b[0;34m,\u001b[0m \u001b[0;34m'rb'\u001b[0m\u001b[0;34m)\u001b[0m \u001b[0;32mas\u001b[0m \u001b[0mf\u001b[0m\u001b[0;34m:\u001b[0m\u001b[0;34m\u001b[0m\u001b[0;34m\u001b[0m\u001b[0m\n\u001b[0m\u001b[1;32m      7\u001b[0m         \u001b[0msoln\u001b[0m \u001b[0;34m=\u001b[0m \u001b[0mcsv\u001b[0m\u001b[0;34m.\u001b[0m\u001b[0mreader\u001b[0m\u001b[0;34m(\u001b[0m\u001b[0mf\u001b[0m\u001b[0;34m)\u001b[0m\u001b[0;34m\u001b[0m\u001b[0;34m\u001b[0m\u001b[0m\n\u001b[1;32m      8\u001b[0m         \u001b[0msoln\u001b[0m\u001b[0;34m.\u001b[0m\u001b[0mnext\u001b[0m\u001b[0;34m(\u001b[0m\u001b[0;34m)\u001b[0m \u001b[0;31m# header\u001b[0m\u001b[0;34m\u001b[0m\u001b[0;34m\u001b[0m\u001b[0m\n",
      "\u001b[0;31mFileNotFoundError\u001b[0m: [Errno 2] No such file or directory: ''"
     ]
    }
   ],
   "source": [
    "if __name__ == \"__main__\":\n",
    "\n",
    "    # enter path and file names here    \n",
    "    path = \"\"\n",
    "    solutionFile = \"\"\n",
    "    submissionFile = \"\"\n",
    "    \n",
    "    AMS_metric(solutionFile, submissionFile)"
   ]
  },
  {
   "cell_type": "markdown",
   "metadata": {},
   "source": [
    "---"
   ]
  },
  {
   "cell_type": "markdown",
   "metadata": {},
   "source": [
    "<h1 style=\"color:red\"> Amazing !</h1>\n"
   ]
  }
 ],
 "metadata": {
  "colab": {
   "collapsed_sections": [
    "e1r9zN9yI-at"
   ],
   "include_colab_link": true,
   "name": "higgsbosonSearch_hw.ipynb",
   "provenance": []
  },
  "kernelspec": {
   "display_name": "Python 3",
   "language": "python",
   "name": "python3"
  },
  "language_info": {
   "codemirror_mode": {
    "name": "ipython",
    "version": 3
   },
   "file_extension": ".py",
   "mimetype": "text/x-python",
   "name": "python",
   "nbconvert_exporter": "python",
   "pygments_lexer": "ipython3",
   "version": "3.6.8"
  }
 },
 "nbformat": 4,
 "nbformat_minor": 1
}
