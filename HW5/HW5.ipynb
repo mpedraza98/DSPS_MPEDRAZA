{
  "nbformat": 4,
  "nbformat_minor": 0,
  "metadata": {
    "colab": {
      "name": "HW5.ipynb",
      "provenance": [],
      "collapsed_sections": [],
      "include_colab_link": true
    },
    "kernelspec": {
      "name": "python3",
      "display_name": "Python 3"
    },
    "language_info": {
      "name": "python"
    }
  },
  "cells": [
    {
      "cell_type": "markdown",
      "metadata": {
        "id": "view-in-github",
        "colab_type": "text"
      },
      "source": [
        "<a href=\"https://colab.research.google.com/github/mpedraza98/DSPS_MPedraza/blob/main/HW5/HW5.ipynb\" target=\"_parent\"><img src=\"https://colab.research.google.com/assets/colab-badge.svg\" alt=\"Open In Colab\"/></a>"
      ]
    },
    {
      "cell_type": "code",
      "metadata": {
        "colab": {
          "base_uri": "https://localhost:8080/"
        },
        "id": "gOs81kQH7bDX",
        "outputId": "3f5d63b1-faf2-4a3a-d725-b1253aa844d0"
      },
      "source": [
        "import numpy as np\n",
        "import pandas as pd\n",
        "import matplotlib.pyplot as plt\n",
        "%pylab inline"
      ],
      "execution_count": null,
      "outputs": [
        {
          "output_type": "stream",
          "name": "stdout",
          "text": [
            "Populating the interactive namespace from numpy and matplotlib\n"
          ]
        },
        {
          "output_type": "stream",
          "name": "stderr",
          "text": [
            "/usr/local/lib/python3.7/dist-packages/IPython/core/magics/pylab.py:161: UserWarning: pylab import has clobbered these variables: ['cov']\n",
            "`%matplotlib` prevents importing * from pylab and numpy\n",
            "  \"\\n`%matplotlib` prevents importing * from pylab and numpy\"\n"
          ]
        }
      ]
    },
    {
      "cell_type": "code",
      "metadata": {
        "id": "EnevCldw8eT0"
      },
      "source": [
        "t1 = pd.read_csv('https://raw.githubusercontent.com/fedhere/DSPS_FBianco/master/HW5/hbl2017.csv',sep=\",\",skiprows=1,names=[\"ID\",\"x\",\"y\",\"sigy\",\"sigx\",\"pxy\"])\n"
      ],
      "execution_count": null,
      "outputs": []
    },
    {
      "cell_type": "code",
      "metadata": {
        "colab": {
          "base_uri": "https://localhost:8080/",
          "height": 206
        },
        "id": "nvrZKOmp9lR7",
        "outputId": "cb7f0c29-aca6-4fc3-c62c-c339bf56cadd"
      },
      "source": [
        "t1.head()"
      ],
      "execution_count": null,
      "outputs": [
        {
          "output_type": "execute_result",
          "data": {
            "text/html": [
              "<div>\n",
              "<style scoped>\n",
              "    .dataframe tbody tr th:only-of-type {\n",
              "        vertical-align: middle;\n",
              "    }\n",
              "\n",
              "    .dataframe tbody tr th {\n",
              "        vertical-align: top;\n",
              "    }\n",
              "\n",
              "    .dataframe thead th {\n",
              "        text-align: right;\n",
              "    }\n",
              "</style>\n",
              "<table border=\"1\" class=\"dataframe\">\n",
              "  <thead>\n",
              "    <tr style=\"text-align: right;\">\n",
              "      <th></th>\n",
              "      <th>ID</th>\n",
              "      <th>x</th>\n",
              "      <th>y</th>\n",
              "      <th>sigy</th>\n",
              "      <th>sigx</th>\n",
              "      <th>pxy</th>\n",
              "    </tr>\n",
              "  </thead>\n",
              "  <tbody>\n",
              "    <tr>\n",
              "      <th>0</th>\n",
              "      <td>1</td>\n",
              "      <td>201</td>\n",
              "      <td>592</td>\n",
              "      <td>61</td>\n",
              "      <td>9</td>\n",
              "      <td>-0.84</td>\n",
              "    </tr>\n",
              "    <tr>\n",
              "      <th>1</th>\n",
              "      <td>2</td>\n",
              "      <td>244</td>\n",
              "      <td>401</td>\n",
              "      <td>25</td>\n",
              "      <td>4</td>\n",
              "      <td>0.31</td>\n",
              "    </tr>\n",
              "    <tr>\n",
              "      <th>2</th>\n",
              "      <td>3</td>\n",
              "      <td>47</td>\n",
              "      <td>583</td>\n",
              "      <td>38</td>\n",
              "      <td>11</td>\n",
              "      <td>0.64</td>\n",
              "    </tr>\n",
              "    <tr>\n",
              "      <th>3</th>\n",
              "      <td>4</td>\n",
              "      <td>287</td>\n",
              "      <td>402</td>\n",
              "      <td>15</td>\n",
              "      <td>7</td>\n",
              "      <td>-0.27</td>\n",
              "    </tr>\n",
              "    <tr>\n",
              "      <th>4</th>\n",
              "      <td>5</td>\n",
              "      <td>203</td>\n",
              "      <td>495</td>\n",
              "      <td>21</td>\n",
              "      <td>5</td>\n",
              "      <td>-0.33</td>\n",
              "    </tr>\n",
              "  </tbody>\n",
              "</table>\n",
              "</div>"
            ],
            "text/plain": [
              "   ID    x    y  sigy  sigx   pxy\n",
              "0   1  201  592    61     9 -0.84\n",
              "1   2  244  401    25     4  0.31\n",
              "2   3   47  583    38    11  0.64\n",
              "3   4  287  402    15     7 -0.27\n",
              "4   5  203  495    21     5 -0.33"
            ]
          },
          "metadata": {},
          "execution_count": 4
        }
      ]
    },
    {
      "cell_type": "markdown",
      "metadata": {
        "id": "9iwq8k4MzSEu"
      },
      "source": [
        "Problem 1:"
      ]
    },
    {
      "cell_type": "code",
      "metadata": {
        "id": "VcWeVgpP94wD"
      },
      "source": [
        "t1p1 = t1[t1[\"ID\"]>=5]"
      ],
      "execution_count": null,
      "outputs": []
    },
    {
      "cell_type": "code",
      "metadata": {
        "id": "LAG8SptyDhnD"
      },
      "source": [
        "Y = t1p1[\"y\"]\n",
        "X = t1p1[\"x\"]\n",
        "yerr = t1p1[\"sigy\"]\n",
        "A = np.c_[np.ones(len(X)), X]"
      ],
      "execution_count": null,
      "outputs": []
    },
    {
      "cell_type": "code",
      "metadata": {
        "colab": {
          "base_uri": "https://localhost:8080/"
        },
        "id": "hniNfVFDEQc7",
        "outputId": "efe1e7a8-eb13-4f9c-9e3e-46eea92854db"
      },
      "source": [
        "theta_best = np.linalg.inv(A.T.dot(A)).dot(A.T).dot(Y)\n",
        "theta_best"
      ],
      "execution_count": null,
      "outputs": [
        {
          "output_type": "execute_result",
          "data": {
            "text/plain": [
              "array([28.84345193,  2.21665602])"
            ]
          },
          "metadata": {},
          "execution_count": 73
        }
      ]
    },
    {
      "cell_type": "code",
      "metadata": {
        "colab": {
          "base_uri": "https://localhost:8080/",
          "height": 314
        },
        "id": "_Q0Iz4ujBe7N",
        "outputId": "91949b22-ce16-468a-f701-688539287f56"
      },
      "source": [
        "plt.errorbar(X,Y,yerr,fmt=\".k\",capsize=0)\n",
        "x0 = np.linspace(0,300,10)\n",
        "plt.plot(x0, theta_best[1] * x0 + theta_best[0], \"b\", \n",
        "         alpha=0.3, lw=3, label=\"LA\")\n",
        "plt.ylim(0,700)\n",
        "plt.title('Excercise 1')\n",
        "plt.xlabel('x')\n",
        "plt.ylabel('y')\n",
        "plt.legend()"
      ],
      "execution_count": null,
      "outputs": [
        {
          "output_type": "execute_result",
          "data": {
            "text/plain": [
              "<matplotlib.legend.Legend at 0x7f0195eeea90>"
            ]
          },
          "metadata": {},
          "execution_count": 76
        },
        {
          "output_type": "display_data",
          "data": {
            "image/png": "[encoded data removed]",
            "text/plain": [
              "<Figure size 432x288 with 1 Axes>"
            ]
          },
          "metadata": {
            "needs_background": "light"
          }
        }
      ]
    },
    {
      "cell_type": "markdown",
      "metadata": {
        "id": "pSIFYSTKuon6"
      },
      "source": [
        "Figure 1: Best fit line using standard linear algebra method based on x and y points, and showing uncertainties in the y direction with errorbars."
      ]
    },
    {
      "cell_type": "code",
      "metadata": {
        "colab": {
          "base_uri": "https://localhost:8080/"
        },
        "id": "Hf2sLlqHum1G",
        "outputId": "5a20c105-e7d5-4c76-d83a-9f598c248a48"
      },
      "source": [
        "#To calculate the stadard uncertainty variance on the slope of the line:\n",
        "A = np.vander(X, 2)\n",
        "ATA = np.dot(A.T, A / (yerr ** 2)[:, None])\n",
        "cov = np.linalg.inv(ATA) #covariance will give us the errors\n",
        "w = np.linalg.solve(ATA, np.dot(A.T, Y / yerr ** 2))\n",
        "print(\"Uncertainty variance on m:\")\n",
        "print(\"m = {0:.3f} ± {1:.3f}\".format(w[0], np.sqrt(cov[0, 0])))"
      ],
      "execution_count": null,
      "outputs": [
        {
          "output_type": "stream",
          "name": "stdout",
          "text": [
            "Uncertainty variance on m:\n",
            "m = 2.240 ± 0.108\n"
          ]
        },
        {
          "output_type": "stream",
          "name": "stderr",
          "text": [
            "/usr/local/lib/python3.7/dist-packages/ipykernel_launcher.py:3: FutureWarning: Support for multi-dimensional indexing (e.g. `obj[:, None]`) is deprecated and will be removed in a future version.  Convert to a numpy array before indexing instead.\n",
            "  This is separate from the ipykernel package so we can avoid doing imports until\n"
          ]
        }
      ]
    },
    {
      "cell_type": "markdown",
      "metadata": {
        "id": "zrfPznwD0hJt"
      },
      "source": [
        "Problem 2:"
      ]
    },
    {
      "cell_type": "code",
      "metadata": {
        "id": "MI7ys7co0krQ"
      },
      "source": [
        "Y = t1[\"y\"]\n",
        "X = t1[\"x\"]\n",
        "yerr = t1[\"sigy\"]\n",
        "A = np.c_[np.ones(len(X)),X]"
      ],
      "execution_count": null,
      "outputs": []
    },
    {
      "cell_type": "code",
      "metadata": {
        "colab": {
          "base_uri": "https://localhost:8080/"
        },
        "id": "Lv7kvdWY0vYS",
        "outputId": "73726b9c-16cb-4281-d98a-8cada03c9e20"
      },
      "source": [
        "theta_best = np.linalg.inv(A.T.dot(A)).dot(A.T).dot(Y)\n",
        "theta_best"
      ],
      "execution_count": null,
      "outputs": [
        {
          "output_type": "execute_result",
          "data": {
            "text/plain": [
              "array([310.01720255,   0.63201154])"
            ]
          },
          "metadata": {},
          "execution_count": 89
        }
      ]
    },
    {
      "cell_type": "code",
      "metadata": {
        "colab": {
          "base_uri": "https://localhost:8080/",
          "height": 314
        },
        "id": "O8d1IzCN0zMg",
        "outputId": "3875b311-531f-4944-8b00-4920202c44a7"
      },
      "source": [
        "plt.errorbar(X,Y,yerr,fmt=\".k\",capsize=0)\n",
        "x0 = np.linspace(0,300,10)\n",
        "plt.plot(x0, theta_best[1] * x0 + theta_best[0], \"b\", \n",
        "         alpha=0.3, lw=3, label=\"LA\")\n",
        "plt.title('Excercise 2')\n",
        "plt.ylim(0,700)\n",
        "plt.xlabel('x')\n",
        "plt.ylabel('y')\n",
        "plt.legend()"
      ],
      "execution_count": null,
      "outputs": [
        {
          "output_type": "execute_result",
          "data": {
            "text/plain": [
              "<matplotlib.legend.Legend at 0x7f0195cd8e10>"
            ]
          },
          "metadata": {},
          "execution_count": 90
        },
        {
          "output_type": "display_data",
          "data": {
            "image/png": "[encoded data removed]",
            "text/plain": [
              "<Figure size 432x288 with 1 Axes>"
            ]
          },
          "metadata": {
            "needs_background": "light"
          }
        }
      ]
    },
    {
      "cell_type": "markdown",
      "metadata": {
        "id": "ldM1_lcL1PNG"
      },
      "source": [
        "Figure 2: Same as figure 1, but including all of the data points from table 1. "
      ]
    },
    {
      "cell_type": "code",
      "metadata": {
        "colab": {
          "base_uri": "https://localhost:8080/"
        },
        "id": "prZDsn5C1Wgo",
        "outputId": "d0d0551e-bb7f-40ad-a0a8-60b5cdc51885"
      },
      "source": [
        "A = np.vander(X, 2)\n",
        "ATA = np.dot(A.T, A / (yerr ** 2)[:, None])\n",
        "cov = np.linalg.inv(ATA) #covariance will give us the errors\n",
        "w = np.linalg.solve(ATA, np.dot(A.T, Y / yerr ** 2))\n",
        "print(\"Uncertainty variance on m:\")\n",
        "print(\"m = {0:.3f} ± {1:.3f}\".format(w[0], np.sqrt(cov[0, 0])))"
      ],
      "execution_count": null,
      "outputs": [
        {
          "output_type": "stream",
          "name": "stdout",
          "text": [
            "Uncertainty variance on m:\n",
            "m = 1.077 ± 0.077\n"
          ]
        },
        {
          "output_type": "stream",
          "name": "stderr",
          "text": [
            "/usr/local/lib/python3.7/dist-packages/ipykernel_launcher.py:2: FutureWarning: Support for multi-dimensional indexing (e.g. `obj[:, None]`) is deprecated and will be removed in a future version.  Convert to a numpy array before indexing instead.\n",
            "  \n"
          ]
        }
      ]
    },
    {
      "cell_type": "markdown",
      "metadata": {
        "id": "43FeZPWM2tf7"
      },
      "source": [
        "Including the first few data points made a large difference in the slope of the line. It include outliers at the beginning and end of the x range that significantly reduced the slope, and made the line less representative of the majority of the points. "
      ]
    },
    {
      "cell_type": "markdown",
      "metadata": {
        "id": "7b9KOuSM3jIn"
      },
      "source": [
        "Problem 3:"
      ]
    },
    {
      "cell_type": "code",
      "metadata": {
        "id": "fSk7exD35NDJ"
      },
      "source": [
        "def quad_fit(x,y,yerr):\n",
        "  A = np.c_[np.ones(len(x)),x,x**2]\n",
        "  theta_best = np.linalg.inv(A.T.dot(A)).dot(A.T).dot(y)\n",
        "  plt.errorbar(x,y,yerr,fmt=\".k\",capsize=0)\n",
        "  x0 = np.linspace(0,300,10)\n",
        "  plt.plot(x0, theta_best[2]*x0**2 + theta_best[1] * x0 + theta_best[0], \"b\", \n",
        "          alpha=0.3, lw=3, label=\"quadratic LA\")\n",
        "  plt.title('Excercise 3')\n",
        "  plt.ylim(0,700)\n",
        "  plt.xlabel('x')\n",
        "  plt.ylabel('y')\n",
        "  plt.legend()"
      ],
      "execution_count": null,
      "outputs": []
    },
    {
      "cell_type": "code",
      "metadata": {
        "colab": {
          "base_uri": "https://localhost:8080/",
          "height": 295
        },
        "id": "VQcVECPL7emV",
        "outputId": "24909947-0a91-45ce-cffa-afa5f55a849a"
      },
      "source": [
        "quad_fit(t1p1[\"x\"],t1p1[\"y\"],t1p1[\"sigy\"])"
      ],
      "execution_count": null,
      "outputs": [
        {
          "output_type": "display_data",
          "data": {
            "image/png": "[encoded data removed]",
            "text/plain": [
              "<Figure size 432x288 with 1 Axes>"
            ]
          },
          "metadata": {
            "needs_background": "light"
          }
        }
      ]
    },
    {
      "cell_type": "markdown",
      "metadata": {
        "id": "FXvJISiO-bRx"
      },
      "source": [
        "Figure 3: Line-fitting as in figure 1, but using a general quadratic relationship. This fit seems so follow the data points slightly more closely than the linear fit, although the difference isn't that substantial because the data from exercise 1 are relatively linear. "
      ]
    }
  ]
}